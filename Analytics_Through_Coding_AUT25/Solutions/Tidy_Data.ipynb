{
 "cells": [
  {
   "cell_type": "markdown",
   "id": "e84282db",
   "metadata": {},
   "source": [
    "### Tidy Data\n",
    "\n",
    "Good practice is to import the necessary libraries at the start of your notebook/script"
   ]
  },
  {
   "cell_type": "code",
   "execution_count": 3,
   "id": "dbba089e",
   "metadata": {},
   "outputs": [],
   "source": [
    "import pandas as pd\n",
    "import numpy as np"
   ]
  },
  {
   "cell_type": "markdown",
   "id": "6afc834f",
   "metadata": {},
   "source": [
    "Getting your data into this format requires some upfront work, but that work pays off in the long term. Once you have tidy data and pandas data frames, you will spend much less time manipulating data from one representation to another, allowing you to spend more time on the analytic questions at hand.\n",
    "\n",
    "Instead of using a csv file, we can also connet to datasets via a URL and then create a dataframe using `pandas`"
   ]
  },
  {
   "cell_type": "code",
   "execution_count": 4,
   "id": "795d15ac",
   "metadata": {},
   "outputs": [],
   "source": [
    "base_url = \"https://github.com/byuidatascience/data4python4ds/raw/master/data-raw/\" # base URL for datasets\n",
    "table1 = pd.read_csv(\"{}table1/table1.csv\".format(base_url)) # read table1 dataset\n",
    "table2 = pd.read_csv(\"{}table2/table2.csv\".format(base_url)) # read table2 dataset\n",
    "table3 = pd.read_csv(\"{}table3/table3.csv\".format(base_url)) # read table3 dataset\n",
    "table4a = pd.read_csv(\"{}table4a/table4a.csv\".format(base_url)) # read table4a dataset\n",
    "table4b = pd.read_csv(\"{}table4b/table4b.csv\".format(base_url)) # read table4b dataset\n",
    "table5 = pd.read_csv(\"{}table5/table5.csv\".format(base_url), dtype = 'object') # read table5 dataset"
   ]
  },
  {
   "cell_type": "code",
   "execution_count": 5,
   "id": "42952363",
   "metadata": {},
   "outputs": [
    {
     "data": {
      "application/vnd.microsoft.datawrangler.viewer.v0+json": {
       "columns": [
        {
         "name": "index",
         "rawType": "int64",
         "type": "integer"
        },
        {
         "name": "country",
         "rawType": "object",
         "type": "string"
        },
        {
         "name": "year",
         "rawType": "int64",
         "type": "integer"
        },
        {
         "name": "cases",
         "rawType": "int64",
         "type": "integer"
        },
        {
         "name": "population",
         "rawType": "int64",
         "type": "integer"
        }
       ],
       "ref": "69e17519-1bf7-417e-b6ef-6471f461102c",
       "rows": [
        [
         "0",
         "Afghanistan",
         "1999",
         "745",
         "19987071"
        ],
        [
         "1",
         "Afghanistan",
         "2000",
         "2666",
         "20595360"
        ],
        [
         "2",
         "Brazil",
         "1999",
         "37737",
         "172006362"
        ],
        [
         "3",
         "Brazil",
         "2000",
         "80488",
         "174504898"
        ],
        [
         "4",
         "China",
         "1999",
         "212258",
         "1272915272"
        ],
        [
         "5",
         "China",
         "2000",
         "213766",
         "1280428583"
        ]
       ],
       "shape": {
        "columns": 4,
        "rows": 6
       }
      },
      "text/html": [
       "<div>\n",
       "<style scoped>\n",
       "    .dataframe tbody tr th:only-of-type {\n",
       "        vertical-align: middle;\n",
       "    }\n",
       "\n",
       "    .dataframe tbody tr th {\n",
       "        vertical-align: top;\n",
       "    }\n",
       "\n",
       "    .dataframe thead th {\n",
       "        text-align: right;\n",
       "    }\n",
       "</style>\n",
       "<table border=\"1\" class=\"dataframe\">\n",
       "  <thead>\n",
       "    <tr style=\"text-align: right;\">\n",
       "      <th></th>\n",
       "      <th>country</th>\n",
       "      <th>year</th>\n",
       "      <th>cases</th>\n",
       "      <th>population</th>\n",
       "    </tr>\n",
       "  </thead>\n",
       "  <tbody>\n",
       "    <tr>\n",
       "      <th>0</th>\n",
       "      <td>Afghanistan</td>\n",
       "      <td>1999</td>\n",
       "      <td>745</td>\n",
       "      <td>19987071</td>\n",
       "    </tr>\n",
       "    <tr>\n",
       "      <th>1</th>\n",
       "      <td>Afghanistan</td>\n",
       "      <td>2000</td>\n",
       "      <td>2666</td>\n",
       "      <td>20595360</td>\n",
       "    </tr>\n",
       "    <tr>\n",
       "      <th>2</th>\n",
       "      <td>Brazil</td>\n",
       "      <td>1999</td>\n",
       "      <td>37737</td>\n",
       "      <td>172006362</td>\n",
       "    </tr>\n",
       "    <tr>\n",
       "      <th>3</th>\n",
       "      <td>Brazil</td>\n",
       "      <td>2000</td>\n",
       "      <td>80488</td>\n",
       "      <td>174504898</td>\n",
       "    </tr>\n",
       "    <tr>\n",
       "      <th>4</th>\n",
       "      <td>China</td>\n",
       "      <td>1999</td>\n",
       "      <td>212258</td>\n",
       "      <td>1272915272</td>\n",
       "    </tr>\n",
       "    <tr>\n",
       "      <th>5</th>\n",
       "      <td>China</td>\n",
       "      <td>2000</td>\n",
       "      <td>213766</td>\n",
       "      <td>1280428583</td>\n",
       "    </tr>\n",
       "  </tbody>\n",
       "</table>\n",
       "</div>"
      ],
      "text/plain": [
       "       country  year   cases  population\n",
       "0  Afghanistan  1999     745    19987071\n",
       "1  Afghanistan  2000    2666    20595360\n",
       "2       Brazil  1999   37737   172006362\n",
       "3       Brazil  2000   80488   174504898\n",
       "4        China  1999  212258  1272915272\n",
       "5        China  2000  213766  1280428583"
      ]
     },
     "metadata": {},
     "output_type": "display_data"
    },
    {
     "data": {
      "application/vnd.microsoft.datawrangler.viewer.v0+json": {
       "columns": [
        {
         "name": "index",
         "rawType": "int64",
         "type": "integer"
        },
        {
         "name": "country",
         "rawType": "object",
         "type": "string"
        },
        {
         "name": "year",
         "rawType": "int64",
         "type": "integer"
        },
        {
         "name": "type",
         "rawType": "object",
         "type": "string"
        },
        {
         "name": "count",
         "rawType": "int64",
         "type": "integer"
        }
       ],
       "ref": "a2fce003-daea-4fb8-a5a3-0d13e2e908c7",
       "rows": [
        [
         "0",
         "Afghanistan",
         "1999",
         "cases",
         "745"
        ],
        [
         "1",
         "Afghanistan",
         "1999",
         "population",
         "19987071"
        ],
        [
         "2",
         "Afghanistan",
         "2000",
         "cases",
         "2666"
        ],
        [
         "3",
         "Afghanistan",
         "2000",
         "population",
         "20595360"
        ],
        [
         "4",
         "Brazil",
         "1999",
         "cases",
         "37737"
        ],
        [
         "5",
         "Brazil",
         "1999",
         "population",
         "172006362"
        ],
        [
         "6",
         "Brazil",
         "2000",
         "cases",
         "80488"
        ],
        [
         "7",
         "Brazil",
         "2000",
         "population",
         "174504898"
        ],
        [
         "8",
         "China",
         "1999",
         "cases",
         "212258"
        ],
        [
         "9",
         "China",
         "1999",
         "population",
         "1272915272"
        ],
        [
         "10",
         "China",
         "2000",
         "cases",
         "213766"
        ],
        [
         "11",
         "China",
         "2000",
         "population",
         "1280428583"
        ]
       ],
       "shape": {
        "columns": 4,
        "rows": 12
       }
      },
      "text/html": [
       "<div>\n",
       "<style scoped>\n",
       "    .dataframe tbody tr th:only-of-type {\n",
       "        vertical-align: middle;\n",
       "    }\n",
       "\n",
       "    .dataframe tbody tr th {\n",
       "        vertical-align: top;\n",
       "    }\n",
       "\n",
       "    .dataframe thead th {\n",
       "        text-align: right;\n",
       "    }\n",
       "</style>\n",
       "<table border=\"1\" class=\"dataframe\">\n",
       "  <thead>\n",
       "    <tr style=\"text-align: right;\">\n",
       "      <th></th>\n",
       "      <th>country</th>\n",
       "      <th>year</th>\n",
       "      <th>type</th>\n",
       "      <th>count</th>\n",
       "    </tr>\n",
       "  </thead>\n",
       "  <tbody>\n",
       "    <tr>\n",
       "      <th>0</th>\n",
       "      <td>Afghanistan</td>\n",
       "      <td>1999</td>\n",
       "      <td>cases</td>\n",
       "      <td>745</td>\n",
       "    </tr>\n",
       "    <tr>\n",
       "      <th>1</th>\n",
       "      <td>Afghanistan</td>\n",
       "      <td>1999</td>\n",
       "      <td>population</td>\n",
       "      <td>19987071</td>\n",
       "    </tr>\n",
       "    <tr>\n",
       "      <th>2</th>\n",
       "      <td>Afghanistan</td>\n",
       "      <td>2000</td>\n",
       "      <td>cases</td>\n",
       "      <td>2666</td>\n",
       "    </tr>\n",
       "    <tr>\n",
       "      <th>3</th>\n",
       "      <td>Afghanistan</td>\n",
       "      <td>2000</td>\n",
       "      <td>population</td>\n",
       "      <td>20595360</td>\n",
       "    </tr>\n",
       "    <tr>\n",
       "      <th>4</th>\n",
       "      <td>Brazil</td>\n",
       "      <td>1999</td>\n",
       "      <td>cases</td>\n",
       "      <td>37737</td>\n",
       "    </tr>\n",
       "    <tr>\n",
       "      <th>5</th>\n",
       "      <td>Brazil</td>\n",
       "      <td>1999</td>\n",
       "      <td>population</td>\n",
       "      <td>172006362</td>\n",
       "    </tr>\n",
       "    <tr>\n",
       "      <th>6</th>\n",
       "      <td>Brazil</td>\n",
       "      <td>2000</td>\n",
       "      <td>cases</td>\n",
       "      <td>80488</td>\n",
       "    </tr>\n",
       "    <tr>\n",
       "      <th>7</th>\n",
       "      <td>Brazil</td>\n",
       "      <td>2000</td>\n",
       "      <td>population</td>\n",
       "      <td>174504898</td>\n",
       "    </tr>\n",
       "    <tr>\n",
       "      <th>8</th>\n",
       "      <td>China</td>\n",
       "      <td>1999</td>\n",
       "      <td>cases</td>\n",
       "      <td>212258</td>\n",
       "    </tr>\n",
       "    <tr>\n",
       "      <th>9</th>\n",
       "      <td>China</td>\n",
       "      <td>1999</td>\n",
       "      <td>population</td>\n",
       "      <td>1272915272</td>\n",
       "    </tr>\n",
       "    <tr>\n",
       "      <th>10</th>\n",
       "      <td>China</td>\n",
       "      <td>2000</td>\n",
       "      <td>cases</td>\n",
       "      <td>213766</td>\n",
       "    </tr>\n",
       "    <tr>\n",
       "      <th>11</th>\n",
       "      <td>China</td>\n",
       "      <td>2000</td>\n",
       "      <td>population</td>\n",
       "      <td>1280428583</td>\n",
       "    </tr>\n",
       "  </tbody>\n",
       "</table>\n",
       "</div>"
      ],
      "text/plain": [
       "        country  year        type       count\n",
       "0   Afghanistan  1999       cases         745\n",
       "1   Afghanistan  1999  population    19987071\n",
       "2   Afghanistan  2000       cases        2666\n",
       "3   Afghanistan  2000  population    20595360\n",
       "4        Brazil  1999       cases       37737\n",
       "5        Brazil  1999  population   172006362\n",
       "6        Brazil  2000       cases       80488\n",
       "7        Brazil  2000  population   174504898\n",
       "8         China  1999       cases      212258\n",
       "9         China  1999  population  1272915272\n",
       "10        China  2000       cases      213766\n",
       "11        China  2000  population  1280428583"
      ]
     },
     "metadata": {},
     "output_type": "display_data"
    },
    {
     "data": {
      "application/vnd.microsoft.datawrangler.viewer.v0+json": {
       "columns": [
        {
         "name": "index",
         "rawType": "int64",
         "type": "integer"
        },
        {
         "name": "country",
         "rawType": "object",
         "type": "string"
        },
        {
         "name": "year",
         "rawType": "int64",
         "type": "integer"
        },
        {
         "name": "rate",
         "rawType": "object",
         "type": "string"
        }
       ],
       "ref": "9f1586c8-264e-4334-b445-0686b9a04ab2",
       "rows": [
        [
         "0",
         "Afghanistan",
         "1999",
         "745/19987071"
        ],
        [
         "1",
         "Afghanistan",
         "2000",
         "2666/20595360"
        ],
        [
         "2",
         "Brazil",
         "1999",
         "37737/172006362"
        ],
        [
         "3",
         "Brazil",
         "2000",
         "80488/174504898"
        ],
        [
         "4",
         "China",
         "1999",
         "212258/1272915272"
        ],
        [
         "5",
         "China",
         "2000",
         "213766/1280428583"
        ]
       ],
       "shape": {
        "columns": 3,
        "rows": 6
       }
      },
      "text/html": [
       "<div>\n",
       "<style scoped>\n",
       "    .dataframe tbody tr th:only-of-type {\n",
       "        vertical-align: middle;\n",
       "    }\n",
       "\n",
       "    .dataframe tbody tr th {\n",
       "        vertical-align: top;\n",
       "    }\n",
       "\n",
       "    .dataframe thead th {\n",
       "        text-align: right;\n",
       "    }\n",
       "</style>\n",
       "<table border=\"1\" class=\"dataframe\">\n",
       "  <thead>\n",
       "    <tr style=\"text-align: right;\">\n",
       "      <th></th>\n",
       "      <th>country</th>\n",
       "      <th>year</th>\n",
       "      <th>rate</th>\n",
       "    </tr>\n",
       "  </thead>\n",
       "  <tbody>\n",
       "    <tr>\n",
       "      <th>0</th>\n",
       "      <td>Afghanistan</td>\n",
       "      <td>1999</td>\n",
       "      <td>745/19987071</td>\n",
       "    </tr>\n",
       "    <tr>\n",
       "      <th>1</th>\n",
       "      <td>Afghanistan</td>\n",
       "      <td>2000</td>\n",
       "      <td>2666/20595360</td>\n",
       "    </tr>\n",
       "    <tr>\n",
       "      <th>2</th>\n",
       "      <td>Brazil</td>\n",
       "      <td>1999</td>\n",
       "      <td>37737/172006362</td>\n",
       "    </tr>\n",
       "    <tr>\n",
       "      <th>3</th>\n",
       "      <td>Brazil</td>\n",
       "      <td>2000</td>\n",
       "      <td>80488/174504898</td>\n",
       "    </tr>\n",
       "    <tr>\n",
       "      <th>4</th>\n",
       "      <td>China</td>\n",
       "      <td>1999</td>\n",
       "      <td>212258/1272915272</td>\n",
       "    </tr>\n",
       "    <tr>\n",
       "      <th>5</th>\n",
       "      <td>China</td>\n",
       "      <td>2000</td>\n",
       "      <td>213766/1280428583</td>\n",
       "    </tr>\n",
       "  </tbody>\n",
       "</table>\n",
       "</div>"
      ],
      "text/plain": [
       "       country  year               rate\n",
       "0  Afghanistan  1999       745/19987071\n",
       "1  Afghanistan  2000      2666/20595360\n",
       "2       Brazil  1999    37737/172006362\n",
       "3       Brazil  2000    80488/174504898\n",
       "4        China  1999  212258/1272915272\n",
       "5        China  2000  213766/1280428583"
      ]
     },
     "metadata": {},
     "output_type": "display_data"
    },
    {
     "data": {
      "application/vnd.microsoft.datawrangler.viewer.v0+json": {
       "columns": [
        {
         "name": "index",
         "rawType": "int64",
         "type": "integer"
        },
        {
         "name": "country",
         "rawType": "object",
         "type": "string"
        },
        {
         "name": "1999",
         "rawType": "int64",
         "type": "integer"
        },
        {
         "name": "2000",
         "rawType": "int64",
         "type": "integer"
        }
       ],
       "ref": "b2d12de5-2727-43e7-b928-6715debff153",
       "rows": [
        [
         "0",
         "Afghanistan",
         "745",
         "2666"
        ],
        [
         "1",
         "Brazil",
         "37737",
         "80488"
        ],
        [
         "2",
         "China",
         "212258",
         "213766"
        ]
       ],
       "shape": {
        "columns": 3,
        "rows": 3
       }
      },
      "text/html": [
       "<div>\n",
       "<style scoped>\n",
       "    .dataframe tbody tr th:only-of-type {\n",
       "        vertical-align: middle;\n",
       "    }\n",
       "\n",
       "    .dataframe tbody tr th {\n",
       "        vertical-align: top;\n",
       "    }\n",
       "\n",
       "    .dataframe thead th {\n",
       "        text-align: right;\n",
       "    }\n",
       "</style>\n",
       "<table border=\"1\" class=\"dataframe\">\n",
       "  <thead>\n",
       "    <tr style=\"text-align: right;\">\n",
       "      <th></th>\n",
       "      <th>country</th>\n",
       "      <th>1999</th>\n",
       "      <th>2000</th>\n",
       "    </tr>\n",
       "  </thead>\n",
       "  <tbody>\n",
       "    <tr>\n",
       "      <th>0</th>\n",
       "      <td>Afghanistan</td>\n",
       "      <td>745</td>\n",
       "      <td>2666</td>\n",
       "    </tr>\n",
       "    <tr>\n",
       "      <th>1</th>\n",
       "      <td>Brazil</td>\n",
       "      <td>37737</td>\n",
       "      <td>80488</td>\n",
       "    </tr>\n",
       "    <tr>\n",
       "      <th>2</th>\n",
       "      <td>China</td>\n",
       "      <td>212258</td>\n",
       "      <td>213766</td>\n",
       "    </tr>\n",
       "  </tbody>\n",
       "</table>\n",
       "</div>"
      ],
      "text/plain": [
       "       country    1999    2000\n",
       "0  Afghanistan     745    2666\n",
       "1       Brazil   37737   80488\n",
       "2        China  212258  213766"
      ]
     },
     "metadata": {},
     "output_type": "display_data"
    },
    {
     "data": {
      "application/vnd.microsoft.datawrangler.viewer.v0+json": {
       "columns": [
        {
         "name": "index",
         "rawType": "int64",
         "type": "integer"
        },
        {
         "name": "country",
         "rawType": "object",
         "type": "string"
        },
        {
         "name": "1999",
         "rawType": "int64",
         "type": "integer"
        },
        {
         "name": "2000",
         "rawType": "int64",
         "type": "integer"
        }
       ],
       "ref": "f787ff44-579d-4413-8cb5-a3b2a3bd0246",
       "rows": [
        [
         "0",
         "Afghanistan",
         "19987071",
         "20595360"
        ],
        [
         "1",
         "Brazil",
         "172006362",
         "174504898"
        ],
        [
         "2",
         "China",
         "1272915272",
         "1280428583"
        ]
       ],
       "shape": {
        "columns": 3,
        "rows": 3
       }
      },
      "text/html": [
       "<div>\n",
       "<style scoped>\n",
       "    .dataframe tbody tr th:only-of-type {\n",
       "        vertical-align: middle;\n",
       "    }\n",
       "\n",
       "    .dataframe tbody tr th {\n",
       "        vertical-align: top;\n",
       "    }\n",
       "\n",
       "    .dataframe thead th {\n",
       "        text-align: right;\n",
       "    }\n",
       "</style>\n",
       "<table border=\"1\" class=\"dataframe\">\n",
       "  <thead>\n",
       "    <tr style=\"text-align: right;\">\n",
       "      <th></th>\n",
       "      <th>country</th>\n",
       "      <th>1999</th>\n",
       "      <th>2000</th>\n",
       "    </tr>\n",
       "  </thead>\n",
       "  <tbody>\n",
       "    <tr>\n",
       "      <th>0</th>\n",
       "      <td>Afghanistan</td>\n",
       "      <td>19987071</td>\n",
       "      <td>20595360</td>\n",
       "    </tr>\n",
       "    <tr>\n",
       "      <th>1</th>\n",
       "      <td>Brazil</td>\n",
       "      <td>172006362</td>\n",
       "      <td>174504898</td>\n",
       "    </tr>\n",
       "    <tr>\n",
       "      <th>2</th>\n",
       "      <td>China</td>\n",
       "      <td>1272915272</td>\n",
       "      <td>1280428583</td>\n",
       "    </tr>\n",
       "  </tbody>\n",
       "</table>\n",
       "</div>"
      ],
      "text/plain": [
       "       country        1999        2000\n",
       "0  Afghanistan    19987071    20595360\n",
       "1       Brazil   172006362   174504898\n",
       "2        China  1272915272  1280428583"
      ]
     },
     "metadata": {},
     "output_type": "display_data"
    }
   ],
   "source": [
    "\n",
    "display(table1)\n",
    "display(table2)\n",
    "display(table3)\n",
    "display(table4a)\n",
    "display(table4b)\n"
   ]
  },
  {
   "cell_type": "markdown",
   "id": "79ea209c",
   "metadata": {},
   "source": [
    "These are all representations of the same underlying data, but they are not equally easy to use. One dataset, the tidy dataset, will be much easier to work with.\n",
    "\n",
    "There are three interrelated rules which make a dataset tidy:\n",
    "\n",
    "**1. Each variable must have its own column.**\n",
    "\n",
    "**2. Each observation must have its own row.**\n",
    "\n",
    "**3. Each value must have its own cell.**\n",
    "\n",
    "![GitHub Codespaces](tidy_data.png)\n",
    "\n",
    "In this example, only table1 is tidy. It’s the only representation where each column is a variable.\n",
    "\n",
    "Why ensure that your data is tidy? There are two main advantages:\n",
    "\n",
    "1. There’s a general advantage to picking one consistent way of storing data. If you have a consistent data structure, it’s easier to learn the tools that work with it because they have an underlying uniformity.\n",
    "\n",
    "2. There’s a specific advantage to placing variables in columns because it allows `Pandas’` and `NumPy’s` vectorised nature to shine. As you learned in `assign` and `aggregate` functions, most built-in functions work with vectors of values. That makes transforming tidy data feel particularly natural.\n",
    "\n",
    "`Pandas` work well with tidy data. Here are a couple of small examples showing how you might work with table1.\n",
    "\n"
   ]
  },
  {
   "cell_type": "code",
   "execution_count": null,
   "id": "3a31e991",
   "metadata": {},
   "outputs": [
    {
     "data": {
      "application/vnd.microsoft.datawrangler.viewer.v0+json": {
       "columns": [
        {
         "name": "index",
         "rawType": "int64",
         "type": "integer"
        },
        {
         "name": "country",
         "rawType": "object",
         "type": "string"
        },
        {
         "name": "year",
         "rawType": "int64",
         "type": "integer"
        },
        {
         "name": "cases",
         "rawType": "int64",
         "type": "integer"
        },
        {
         "name": "population",
         "rawType": "int64",
         "type": "integer"
        },
        {
         "name": "rate",
         "rawType": "float64",
         "type": "float"
        }
       ],
       "ref": "61b01ea8-6c7b-40fd-8ab2-b41d0bf5eb06",
       "rows": [
        [
         "0",
         "Afghanistan",
         "1999",
         "745",
         "19987071",
         "0.3727409583925529"
        ],
        [
         "1",
         "Afghanistan",
         "2000",
         "2666",
         "20595360",
         "1.2944663263958485"
        ],
        [
         "2",
         "Brazil",
         "1999",
         "37737",
         "172006362",
         "2.1939304779901105"
        ],
        [
         "3",
         "Brazil",
         "2000",
         "80488",
         "174504898",
         "4.612363373319183"
        ],
        [
         "4",
         "China",
         "1999",
         "212258",
         "1272915272",
         "1.6674951166741914"
        ],
        [
         "5",
         "China",
         "2000",
         "213766",
         "1280428583",
         "1.6694878795907042"
        ]
       ],
       "shape": {
        "columns": 5,
        "rows": 6
       }
      },
      "text/html": [
       "<div>\n",
       "<style scoped>\n",
       "    .dataframe tbody tr th:only-of-type {\n",
       "        vertical-align: middle;\n",
       "    }\n",
       "\n",
       "    .dataframe tbody tr th {\n",
       "        vertical-align: top;\n",
       "    }\n",
       "\n",
       "    .dataframe thead th {\n",
       "        text-align: right;\n",
       "    }\n",
       "</style>\n",
       "<table border=\"1\" class=\"dataframe\">\n",
       "  <thead>\n",
       "    <tr style=\"text-align: right;\">\n",
       "      <th></th>\n",
       "      <th>country</th>\n",
       "      <th>year</th>\n",
       "      <th>cases</th>\n",
       "      <th>population</th>\n",
       "      <th>rate</th>\n",
       "    </tr>\n",
       "  </thead>\n",
       "  <tbody>\n",
       "    <tr>\n",
       "      <th>0</th>\n",
       "      <td>Afghanistan</td>\n",
       "      <td>1999</td>\n",
       "      <td>745</td>\n",
       "      <td>19987071</td>\n",
       "      <td>0.372741</td>\n",
       "    </tr>\n",
       "    <tr>\n",
       "      <th>1</th>\n",
       "      <td>Afghanistan</td>\n",
       "      <td>2000</td>\n",
       "      <td>2666</td>\n",
       "      <td>20595360</td>\n",
       "      <td>1.294466</td>\n",
       "    </tr>\n",
       "    <tr>\n",
       "      <th>2</th>\n",
       "      <td>Brazil</td>\n",
       "      <td>1999</td>\n",
       "      <td>37737</td>\n",
       "      <td>172006362</td>\n",
       "      <td>2.193930</td>\n",
       "    </tr>\n",
       "    <tr>\n",
       "      <th>3</th>\n",
       "      <td>Brazil</td>\n",
       "      <td>2000</td>\n",
       "      <td>80488</td>\n",
       "      <td>174504898</td>\n",
       "      <td>4.612363</td>\n",
       "    </tr>\n",
       "    <tr>\n",
       "      <th>4</th>\n",
       "      <td>China</td>\n",
       "      <td>1999</td>\n",
       "      <td>212258</td>\n",
       "      <td>1272915272</td>\n",
       "      <td>1.667495</td>\n",
       "    </tr>\n",
       "    <tr>\n",
       "      <th>5</th>\n",
       "      <td>China</td>\n",
       "      <td>2000</td>\n",
       "      <td>213766</td>\n",
       "      <td>1280428583</td>\n",
       "      <td>1.669488</td>\n",
       "    </tr>\n",
       "  </tbody>\n",
       "</table>\n",
       "</div>"
      ],
      "text/plain": [
       "       country  year   cases  population      rate\n",
       "0  Afghanistan  1999     745    19987071  0.372741\n",
       "1  Afghanistan  2000    2666    20595360  1.294466\n",
       "2       Brazil  1999   37737   172006362  2.193930\n",
       "3       Brazil  2000   80488   174504898  4.612363\n",
       "4        China  1999  212258  1272915272  1.667495\n",
       "5        China  2000  213766  1280428583  1.669488"
      ]
     },
     "execution_count": 9,
     "metadata": {},
     "output_type": "execute_result"
    }
   ],
   "source": [
    "# Compute rate per 10,000\n",
    "table1.assign(\n",
    "    rate = table1.cases / table1.population * 10000\n",
    ")\n",
    "\n",
    "# using lambda\n",
    "table1.assign(\n",
    "    rate = lambda x: x.cases / x.population * 10000\n",
    ")"
   ]
  },
  {
   "cell_type": "code",
   "execution_count": 7,
   "id": "1f85c87f",
   "metadata": {},
   "outputs": [
    {
     "data": {
      "application/vnd.microsoft.datawrangler.viewer.v0+json": {
       "columns": [
        {
         "name": "index",
         "rawType": "int64",
         "type": "integer"
        },
        {
         "name": "year",
         "rawType": "int64",
         "type": "integer"
        },
        {
         "name": "n",
         "rawType": "int64",
         "type": "integer"
        }
       ],
       "ref": "e9777743-e169-4d65-b363-0514968f4cdf",
       "rows": [
        [
         "0",
         "1999",
         "250740"
        ],
        [
         "1",
         "2000",
         "296920"
        ]
       ],
       "shape": {
        "columns": 2,
        "rows": 2
       }
      },
      "text/html": [
       "<div>\n",
       "<style scoped>\n",
       "    .dataframe tbody tr th:only-of-type {\n",
       "        vertical-align: middle;\n",
       "    }\n",
       "\n",
       "    .dataframe tbody tr th {\n",
       "        vertical-align: top;\n",
       "    }\n",
       "\n",
       "    .dataframe thead th {\n",
       "        text-align: right;\n",
       "    }\n",
       "</style>\n",
       "<table border=\"1\" class=\"dataframe\">\n",
       "  <thead>\n",
       "    <tr style=\"text-align: right;\">\n",
       "      <th></th>\n",
       "      <th>year</th>\n",
       "      <th>n</th>\n",
       "    </tr>\n",
       "  </thead>\n",
       "  <tbody>\n",
       "    <tr>\n",
       "      <th>0</th>\n",
       "      <td>1999</td>\n",
       "      <td>250740</td>\n",
       "    </tr>\n",
       "    <tr>\n",
       "      <th>1</th>\n",
       "      <td>2000</td>\n",
       "      <td>296920</td>\n",
       "    </tr>\n",
       "  </tbody>\n",
       "</table>\n",
       "</div>"
      ],
      "text/plain": [
       "   year       n\n",
       "0  1999  250740\n",
       "1  2000  296920"
      ]
     },
     "execution_count": 7,
     "metadata": {},
     "output_type": "execute_result"
    }
   ],
   "source": [
    "(table1.\n",
    "  groupby('year').\n",
    "  agg(n = ('cases', 'sum')).\n",
    "  reset_index())\n"
   ]
  },
  {
   "cell_type": "code",
   "execution_count": null,
   "id": "5f85ba93",
   "metadata": {},
   "outputs": [],
   "source": []
  },
  {
   "cell_type": "markdown",
   "id": "ae983c47",
   "metadata": {},
   "source": [
    "### Pivoting\n",
    "\n",
    "Untidy data will suffer from one of two common problems:\n",
    "\n",
    "- One variable might be spread across multiple columns.\n",
    "\n",
    "- One observation might be scattered across multiple rows.\n",
    "\n",
    "Typically a dataset will only suffer from one of these problems; it’ll only suffer from both if you’re really unlucky! To fix these problems, you’ll need two functions in pandas: `melt()`, `pivot()`, and `pivot_table()`. There are two additional functions called `stack()` and `unstack()` that use multi-index columns and rows.\n",
    "\n",
    "**1. Pivoting longer `.melt()`** - Sometimes some of the column names are not names of variables, but values of a variable. To tidy a dataset like this, we need to stack the offending columns into a new pair of variables."
   ]
  },
  {
   "cell_type": "code",
   "execution_count": 10,
   "id": "e11baa03",
   "metadata": {},
   "outputs": [
    {
     "data": {
      "application/vnd.microsoft.datawrangler.viewer.v0+json": {
       "columns": [
        {
         "name": "index",
         "rawType": "int64",
         "type": "integer"
        },
        {
         "name": "country",
         "rawType": "object",
         "type": "string"
        },
        {
         "name": "1999",
         "rawType": "int64",
         "type": "integer"
        },
        {
         "name": "2000",
         "rawType": "int64",
         "type": "integer"
        }
       ],
       "ref": "b4a56ae9-a13d-4caa-9c28-01b13d1f203f",
       "rows": [
        [
         "0",
         "Afghanistan",
         "745",
         "2666"
        ],
        [
         "1",
         "Brazil",
         "37737",
         "80488"
        ],
        [
         "2",
         "China",
         "212258",
         "213766"
        ]
       ],
       "shape": {
        "columns": 3,
        "rows": 3
       }
      },
      "text/html": [
       "<div>\n",
       "<style scoped>\n",
       "    .dataframe tbody tr th:only-of-type {\n",
       "        vertical-align: middle;\n",
       "    }\n",
       "\n",
       "    .dataframe tbody tr th {\n",
       "        vertical-align: top;\n",
       "    }\n",
       "\n",
       "    .dataframe thead th {\n",
       "        text-align: right;\n",
       "    }\n",
       "</style>\n",
       "<table border=\"1\" class=\"dataframe\">\n",
       "  <thead>\n",
       "    <tr style=\"text-align: right;\">\n",
       "      <th></th>\n",
       "      <th>country</th>\n",
       "      <th>1999</th>\n",
       "      <th>2000</th>\n",
       "    </tr>\n",
       "  </thead>\n",
       "  <tbody>\n",
       "    <tr>\n",
       "      <th>0</th>\n",
       "      <td>Afghanistan</td>\n",
       "      <td>745</td>\n",
       "      <td>2666</td>\n",
       "    </tr>\n",
       "    <tr>\n",
       "      <th>1</th>\n",
       "      <td>Brazil</td>\n",
       "      <td>37737</td>\n",
       "      <td>80488</td>\n",
       "    </tr>\n",
       "    <tr>\n",
       "      <th>2</th>\n",
       "      <td>China</td>\n",
       "      <td>212258</td>\n",
       "      <td>213766</td>\n",
       "    </tr>\n",
       "  </tbody>\n",
       "</table>\n",
       "</div>"
      ],
      "text/plain": [
       "       country    1999    2000\n",
       "0  Afghanistan     745    2666\n",
       "1       Brazil   37737   80488\n",
       "2        China  212258  213766"
      ]
     },
     "execution_count": 10,
     "metadata": {},
     "output_type": "execute_result"
    }
   ],
   "source": [
    "table4a"
   ]
  },
  {
   "cell_type": "markdown",
   "id": "a9c59283",
   "metadata": {},
   "source": [
    "To tidy a dataset like this, we need to stack the offending columns into a new pair of variables. To describe that operation we need three parameters:\n",
    "\n",
    " - The set of columns whose names are identifier variables, not values. In this example, `country` is the identifier column and the value columns are `1999` and `2000`.\n",
    "\n",
    "- The name of the variable to move the column names to. Here it is `year`.\n",
    "\n",
    "- The name of the variable to move the column values to. Here it’s `cases`."
   ]
  },
  {
   "cell_type": "code",
   "execution_count": null,
   "id": "1454eb1f",
   "metadata": {},
   "outputs": [
    {
     "data": {
      "application/vnd.microsoft.datawrangler.viewer.v0+json": {
       "columns": [
        {
         "name": "index",
         "rawType": "int64",
         "type": "integer"
        },
        {
         "name": "country",
         "rawType": "object",
         "type": "string"
        },
        {
         "name": "year",
         "rawType": "object",
         "type": "string"
        },
        {
         "name": "cases",
         "rawType": "int64",
         "type": "integer"
        }
       ],
       "ref": "8a7e2ecc-151a-42e0-abaf-6c6cfbde0073",
       "rows": [
        [
         "0",
         "Afghanistan",
         "1999",
         "745"
        ],
        [
         "1",
         "Brazil",
         "1999",
         "37737"
        ],
        [
         "2",
         "China",
         "1999",
         "212258"
        ],
        [
         "3",
         "Afghanistan",
         "2000",
         "2666"
        ],
        [
         "4",
         "Brazil",
         "2000",
         "80488"
        ],
        [
         "5",
         "China",
         "2000",
         "213766"
        ]
       ],
       "shape": {
        "columns": 3,
        "rows": 6
       }
      },
      "text/html": [
       "<div>\n",
       "<style scoped>\n",
       "    .dataframe tbody tr th:only-of-type {\n",
       "        vertical-align: middle;\n",
       "    }\n",
       "\n",
       "    .dataframe tbody tr th {\n",
       "        vertical-align: top;\n",
       "    }\n",
       "\n",
       "    .dataframe thead th {\n",
       "        text-align: right;\n",
       "    }\n",
       "</style>\n",
       "<table border=\"1\" class=\"dataframe\">\n",
       "  <thead>\n",
       "    <tr style=\"text-align: right;\">\n",
       "      <th></th>\n",
       "      <th>country</th>\n",
       "      <th>year</th>\n",
       "      <th>cases</th>\n",
       "    </tr>\n",
       "  </thead>\n",
       "  <tbody>\n",
       "    <tr>\n",
       "      <th>0</th>\n",
       "      <td>Afghanistan</td>\n",
       "      <td>1999</td>\n",
       "      <td>745</td>\n",
       "    </tr>\n",
       "    <tr>\n",
       "      <th>1</th>\n",
       "      <td>Brazil</td>\n",
       "      <td>1999</td>\n",
       "      <td>37737</td>\n",
       "    </tr>\n",
       "    <tr>\n",
       "      <th>2</th>\n",
       "      <td>China</td>\n",
       "      <td>1999</td>\n",
       "      <td>212258</td>\n",
       "    </tr>\n",
       "    <tr>\n",
       "      <th>3</th>\n",
       "      <td>Afghanistan</td>\n",
       "      <td>2000</td>\n",
       "      <td>2666</td>\n",
       "    </tr>\n",
       "    <tr>\n",
       "      <th>4</th>\n",
       "      <td>Brazil</td>\n",
       "      <td>2000</td>\n",
       "      <td>80488</td>\n",
       "    </tr>\n",
       "    <tr>\n",
       "      <th>5</th>\n",
       "      <td>China</td>\n",
       "      <td>2000</td>\n",
       "      <td>213766</td>\n",
       "    </tr>\n",
       "  </tbody>\n",
       "</table>\n",
       "</div>"
      ],
      "text/plain": [
       "       country  year   cases\n",
       "0  Afghanistan  1999     745\n",
       "1       Brazil  1999   37737\n",
       "2        China  1999  212258\n",
       "3  Afghanistan  2000    2666\n",
       "4       Brazil  2000   80488\n",
       "5        China  2000  213766"
      ]
     },
     "execution_count": 11,
     "metadata": {},
     "output_type": "execute_result"
    }
   ],
   "source": [
    "table4a.melt(['country'], var_name = \"year\", value_name = \"cases\")"
   ]
  },
  {
   "cell_type": "markdown",
   "id": "245ab339",
   "metadata": {},
   "source": [
    "#### Exercise\n",
    "\n",
    "Use `.melt()` to tidy table4b in a similar fashion. "
   ]
  },
  {
   "cell_type": "code",
   "execution_count": 12,
   "id": "d352d3ca",
   "metadata": {},
   "outputs": [
    {
     "data": {
      "application/vnd.microsoft.datawrangler.viewer.v0+json": {
       "columns": [
        {
         "name": "index",
         "rawType": "int64",
         "type": "integer"
        },
        {
         "name": "country",
         "rawType": "object",
         "type": "string"
        },
        {
         "name": "year",
         "rawType": "object",
         "type": "string"
        },
        {
         "name": "population",
         "rawType": "int64",
         "type": "integer"
        }
       ],
       "ref": "2527a8c9-410b-49ef-9391-8df829e7e649",
       "rows": [
        [
         "0",
         "Afghanistan",
         "1999",
         "19987071"
        ],
        [
         "1",
         "Brazil",
         "1999",
         "172006362"
        ],
        [
         "2",
         "China",
         "1999",
         "1272915272"
        ],
        [
         "3",
         "Afghanistan",
         "2000",
         "20595360"
        ],
        [
         "4",
         "Brazil",
         "2000",
         "174504898"
        ],
        [
         "5",
         "China",
         "2000",
         "1280428583"
        ]
       ],
       "shape": {
        "columns": 3,
        "rows": 6
       }
      },
      "text/html": [
       "<div>\n",
       "<style scoped>\n",
       "    .dataframe tbody tr th:only-of-type {\n",
       "        vertical-align: middle;\n",
       "    }\n",
       "\n",
       "    .dataframe tbody tr th {\n",
       "        vertical-align: top;\n",
       "    }\n",
       "\n",
       "    .dataframe thead th {\n",
       "        text-align: right;\n",
       "    }\n",
       "</style>\n",
       "<table border=\"1\" class=\"dataframe\">\n",
       "  <thead>\n",
       "    <tr style=\"text-align: right;\">\n",
       "      <th></th>\n",
       "      <th>country</th>\n",
       "      <th>year</th>\n",
       "      <th>population</th>\n",
       "    </tr>\n",
       "  </thead>\n",
       "  <tbody>\n",
       "    <tr>\n",
       "      <th>0</th>\n",
       "      <td>Afghanistan</td>\n",
       "      <td>1999</td>\n",
       "      <td>19987071</td>\n",
       "    </tr>\n",
       "    <tr>\n",
       "      <th>1</th>\n",
       "      <td>Brazil</td>\n",
       "      <td>1999</td>\n",
       "      <td>172006362</td>\n",
       "    </tr>\n",
       "    <tr>\n",
       "      <th>2</th>\n",
       "      <td>China</td>\n",
       "      <td>1999</td>\n",
       "      <td>1272915272</td>\n",
       "    </tr>\n",
       "    <tr>\n",
       "      <th>3</th>\n",
       "      <td>Afghanistan</td>\n",
       "      <td>2000</td>\n",
       "      <td>20595360</td>\n",
       "    </tr>\n",
       "    <tr>\n",
       "      <th>4</th>\n",
       "      <td>Brazil</td>\n",
       "      <td>2000</td>\n",
       "      <td>174504898</td>\n",
       "    </tr>\n",
       "    <tr>\n",
       "      <th>5</th>\n",
       "      <td>China</td>\n",
       "      <td>2000</td>\n",
       "      <td>1280428583</td>\n",
       "    </tr>\n",
       "  </tbody>\n",
       "</table>\n",
       "</div>"
      ],
      "text/plain": [
       "       country  year  population\n",
       "0  Afghanistan  1999    19987071\n",
       "1       Brazil  1999   172006362\n",
       "2        China  1999  1272915272\n",
       "3  Afghanistan  2000    20595360\n",
       "4       Brazil  2000   174504898\n",
       "5        China  2000  1280428583"
      ]
     },
     "execution_count": 12,
     "metadata": {},
     "output_type": "execute_result"
    }
   ],
   "source": [
    "table4b.melt(['country'], var_name = 'year', value_name = 'population')"
   ]
  },
  {
   "cell_type": "markdown",
   "id": "14ae6a2e",
   "metadata": {},
   "source": [
    "**2. Pivoting wider `.pivot()`** - is the opposite of `melt()`. You use it when an observation is scattered across multiple rows. For example, take table2"
   ]
  },
  {
   "cell_type": "code",
   "execution_count": 13,
   "id": "c70ec4d4",
   "metadata": {},
   "outputs": [
    {
     "data": {
      "application/vnd.microsoft.datawrangler.viewer.v0+json": {
       "columns": [
        {
         "name": "index",
         "rawType": "int64",
         "type": "integer"
        },
        {
         "name": "country",
         "rawType": "object",
         "type": "string"
        },
        {
         "name": "year",
         "rawType": "int64",
         "type": "integer"
        },
        {
         "name": "type",
         "rawType": "object",
         "type": "string"
        },
        {
         "name": "count",
         "rawType": "int64",
         "type": "integer"
        }
       ],
       "ref": "6218733b-4926-48c7-b617-3d6a228d307f",
       "rows": [
        [
         "0",
         "Afghanistan",
         "1999",
         "cases",
         "745"
        ],
        [
         "1",
         "Afghanistan",
         "1999",
         "population",
         "19987071"
        ],
        [
         "2",
         "Afghanistan",
         "2000",
         "cases",
         "2666"
        ],
        [
         "3",
         "Afghanistan",
         "2000",
         "population",
         "20595360"
        ],
        [
         "4",
         "Brazil",
         "1999",
         "cases",
         "37737"
        ],
        [
         "5",
         "Brazil",
         "1999",
         "population",
         "172006362"
        ],
        [
         "6",
         "Brazil",
         "2000",
         "cases",
         "80488"
        ],
        [
         "7",
         "Brazil",
         "2000",
         "population",
         "174504898"
        ],
        [
         "8",
         "China",
         "1999",
         "cases",
         "212258"
        ],
        [
         "9",
         "China",
         "1999",
         "population",
         "1272915272"
        ],
        [
         "10",
         "China",
         "2000",
         "cases",
         "213766"
        ],
        [
         "11",
         "China",
         "2000",
         "population",
         "1280428583"
        ]
       ],
       "shape": {
        "columns": 4,
        "rows": 12
       }
      },
      "text/html": [
       "<div>\n",
       "<style scoped>\n",
       "    .dataframe tbody tr th:only-of-type {\n",
       "        vertical-align: middle;\n",
       "    }\n",
       "\n",
       "    .dataframe tbody tr th {\n",
       "        vertical-align: top;\n",
       "    }\n",
       "\n",
       "    .dataframe thead th {\n",
       "        text-align: right;\n",
       "    }\n",
       "</style>\n",
       "<table border=\"1\" class=\"dataframe\">\n",
       "  <thead>\n",
       "    <tr style=\"text-align: right;\">\n",
       "      <th></th>\n",
       "      <th>country</th>\n",
       "      <th>year</th>\n",
       "      <th>type</th>\n",
       "      <th>count</th>\n",
       "    </tr>\n",
       "  </thead>\n",
       "  <tbody>\n",
       "    <tr>\n",
       "      <th>0</th>\n",
       "      <td>Afghanistan</td>\n",
       "      <td>1999</td>\n",
       "      <td>cases</td>\n",
       "      <td>745</td>\n",
       "    </tr>\n",
       "    <tr>\n",
       "      <th>1</th>\n",
       "      <td>Afghanistan</td>\n",
       "      <td>1999</td>\n",
       "      <td>population</td>\n",
       "      <td>19987071</td>\n",
       "    </tr>\n",
       "    <tr>\n",
       "      <th>2</th>\n",
       "      <td>Afghanistan</td>\n",
       "      <td>2000</td>\n",
       "      <td>cases</td>\n",
       "      <td>2666</td>\n",
       "    </tr>\n",
       "    <tr>\n",
       "      <th>3</th>\n",
       "      <td>Afghanistan</td>\n",
       "      <td>2000</td>\n",
       "      <td>population</td>\n",
       "      <td>20595360</td>\n",
       "    </tr>\n",
       "    <tr>\n",
       "      <th>4</th>\n",
       "      <td>Brazil</td>\n",
       "      <td>1999</td>\n",
       "      <td>cases</td>\n",
       "      <td>37737</td>\n",
       "    </tr>\n",
       "    <tr>\n",
       "      <th>5</th>\n",
       "      <td>Brazil</td>\n",
       "      <td>1999</td>\n",
       "      <td>population</td>\n",
       "      <td>172006362</td>\n",
       "    </tr>\n",
       "    <tr>\n",
       "      <th>6</th>\n",
       "      <td>Brazil</td>\n",
       "      <td>2000</td>\n",
       "      <td>cases</td>\n",
       "      <td>80488</td>\n",
       "    </tr>\n",
       "    <tr>\n",
       "      <th>7</th>\n",
       "      <td>Brazil</td>\n",
       "      <td>2000</td>\n",
       "      <td>population</td>\n",
       "      <td>174504898</td>\n",
       "    </tr>\n",
       "    <tr>\n",
       "      <th>8</th>\n",
       "      <td>China</td>\n",
       "      <td>1999</td>\n",
       "      <td>cases</td>\n",
       "      <td>212258</td>\n",
       "    </tr>\n",
       "    <tr>\n",
       "      <th>9</th>\n",
       "      <td>China</td>\n",
       "      <td>1999</td>\n",
       "      <td>population</td>\n",
       "      <td>1272915272</td>\n",
       "    </tr>\n",
       "    <tr>\n",
       "      <th>10</th>\n",
       "      <td>China</td>\n",
       "      <td>2000</td>\n",
       "      <td>cases</td>\n",
       "      <td>213766</td>\n",
       "    </tr>\n",
       "    <tr>\n",
       "      <th>11</th>\n",
       "      <td>China</td>\n",
       "      <td>2000</td>\n",
       "      <td>population</td>\n",
       "      <td>1280428583</td>\n",
       "    </tr>\n",
       "  </tbody>\n",
       "</table>\n",
       "</div>"
      ],
      "text/plain": [
       "        country  year        type       count\n",
       "0   Afghanistan  1999       cases         745\n",
       "1   Afghanistan  1999  population    19987071\n",
       "2   Afghanistan  2000       cases        2666\n",
       "3   Afghanistan  2000  population    20595360\n",
       "4        Brazil  1999       cases       37737\n",
       "5        Brazil  1999  population   172006362\n",
       "6        Brazil  2000       cases       80488\n",
       "7        Brazil  2000  population   174504898\n",
       "8         China  1999       cases      212258\n",
       "9         China  1999  population  1272915272\n",
       "10        China  2000       cases      213766\n",
       "11        China  2000  population  1280428583"
      ]
     },
     "execution_count": 13,
     "metadata": {},
     "output_type": "execute_result"
    }
   ],
   "source": [
    "table2"
   ]
  },
  {
   "cell_type": "markdown",
   "id": "9f5d4459",
   "metadata": {},
   "source": [
    "To tidy this up, we first analyse the representation in similar way to `melt()`. This time, however, we only need two parameters:\n",
    "\n",
    "The column to take variable names from. Here, it’s `type`.\n",
    "\n",
    "The column to take values from. Here it’s `count`.\n",
    "\n",
    "Depending on the index, we will need to use either `pivot()` or `pivot_table()`."
   ]
  },
  {
   "cell_type": "code",
   "execution_count": null,
   "id": "039b2865",
   "metadata": {},
   "outputs": [
    {
     "data": {
      "application/vnd.microsoft.datawrangler.viewer.v0+json": {
       "columns": [
        {
         "name": "index",
         "rawType": "int64",
         "type": "integer"
        },
        {
         "name": "country",
         "rawType": "object",
         "type": "string"
        },
        {
         "name": "year",
         "rawType": "int64",
         "type": "integer"
        },
        {
         "name": "cases",
         "rawType": "int64",
         "type": "integer"
        },
        {
         "name": "population",
         "rawType": "int64",
         "type": "integer"
        }
       ],
       "ref": "50bfa01c-562d-4c38-a96a-a37fad1867c6",
       "rows": [
        [
         "0",
         "Afghanistan",
         "1999",
         "745",
         "19987071"
        ],
        [
         "1",
         "Afghanistan",
         "2000",
         "2666",
         "20595360"
        ],
        [
         "2",
         "Brazil",
         "1999",
         "37737",
         "172006362"
        ],
        [
         "3",
         "Brazil",
         "2000",
         "80488",
         "174504898"
        ],
        [
         "4",
         "China",
         "1999",
         "212258",
         "1272915272"
        ],
        [
         "5",
         "China",
         "2000",
         "213766",
         "1280428583"
        ]
       ],
       "shape": {
        "columns": 4,
        "rows": 6
       }
      },
      "text/html": [
       "<div>\n",
       "<style scoped>\n",
       "    .dataframe tbody tr th:only-of-type {\n",
       "        vertical-align: middle;\n",
       "    }\n",
       "\n",
       "    .dataframe tbody tr th {\n",
       "        vertical-align: top;\n",
       "    }\n",
       "\n",
       "    .dataframe thead th {\n",
       "        text-align: right;\n",
       "    }\n",
       "</style>\n",
       "<table border=\"1\" class=\"dataframe\">\n",
       "  <thead>\n",
       "    <tr style=\"text-align: right;\">\n",
       "      <th>type</th>\n",
       "      <th>country</th>\n",
       "      <th>year</th>\n",
       "      <th>cases</th>\n",
       "      <th>population</th>\n",
       "    </tr>\n",
       "  </thead>\n",
       "  <tbody>\n",
       "    <tr>\n",
       "      <th>0</th>\n",
       "      <td>Afghanistan</td>\n",
       "      <td>1999</td>\n",
       "      <td>745</td>\n",
       "      <td>19987071</td>\n",
       "    </tr>\n",
       "    <tr>\n",
       "      <th>1</th>\n",
       "      <td>Afghanistan</td>\n",
       "      <td>2000</td>\n",
       "      <td>2666</td>\n",
       "      <td>20595360</td>\n",
       "    </tr>\n",
       "    <tr>\n",
       "      <th>2</th>\n",
       "      <td>Brazil</td>\n",
       "      <td>1999</td>\n",
       "      <td>37737</td>\n",
       "      <td>172006362</td>\n",
       "    </tr>\n",
       "    <tr>\n",
       "      <th>3</th>\n",
       "      <td>Brazil</td>\n",
       "      <td>2000</td>\n",
       "      <td>80488</td>\n",
       "      <td>174504898</td>\n",
       "    </tr>\n",
       "    <tr>\n",
       "      <th>4</th>\n",
       "      <td>China</td>\n",
       "      <td>1999</td>\n",
       "      <td>212258</td>\n",
       "      <td>1272915272</td>\n",
       "    </tr>\n",
       "    <tr>\n",
       "      <th>5</th>\n",
       "      <td>China</td>\n",
       "      <td>2000</td>\n",
       "      <td>213766</td>\n",
       "      <td>1280428583</td>\n",
       "    </tr>\n",
       "  </tbody>\n",
       "</table>\n",
       "</div>"
      ],
      "text/plain": [
       "type      country  year   cases  population\n",
       "0     Afghanistan  1999     745    19987071\n",
       "1     Afghanistan  2000    2666    20595360\n",
       "2          Brazil  1999   37737   172006362\n",
       "3          Brazil  2000   80488   174504898\n",
       "4           China  1999  212258  1272915272\n",
       "5           China  2000  213766  1280428583"
      ]
     },
     "execution_count": 18,
     "metadata": {},
     "output_type": "execute_result"
    }
   ],
   "source": [
    "table2.pivot(\n",
    "    index = ['country', 'year'], # multi-column index\n",
    "    columns = 'type', # column to take variable names from\n",
    "    values = 'count').reset_index() # column to take values from"
   ]
  },
  {
   "cell_type": "markdown",
   "id": "2a2e7f36",
   "metadata": {},
   "source": [
    "Strict reshaping → requires that the combination of `index` + `columns` is unique.\n",
    "\n",
    "If duplicates exist (e.g., if table2 had two rows for Afghanistan–1999–cases), `.pivot()` will throw an error, as we saw.\n",
    "\n",
    "Let's create a dummy table and see what this looks like:"
   ]
  },
  {
   "cell_type": "code",
   "execution_count": 21,
   "id": "89f55853",
   "metadata": {},
   "outputs": [
    {
     "data": {
      "application/vnd.microsoft.datawrangler.viewer.v0+json": {
       "columns": [
        {
         "name": "index",
         "rawType": "int64",
         "type": "integer"
        },
        {
         "name": "country",
         "rawType": "object",
         "type": "string"
        },
        {
         "name": "year",
         "rawType": "int64",
         "type": "integer"
        },
        {
         "name": "type",
         "rawType": "object",
         "type": "string"
        },
        {
         "name": "count",
         "rawType": "int64",
         "type": "integer"
        }
       ],
       "ref": "b6ff9049-1ad8-4cd0-a165-b7b0f947bf7b",
       "rows": [
        [
         "0",
         "Afghanistan",
         "1999",
         "cases",
         "745"
        ],
        [
         "1",
         "Afghanistan",
         "1999",
         "cases",
         "750"
        ],
        [
         "2",
         "Afghanistan",
         "1999",
         "population",
         "19987071"
        ],
        [
         "3",
         "Afghanistan",
         "1999",
         "population",
         "19987071"
        ],
        [
         "4",
         "Brazil",
         "1999",
         "cases",
         "37737"
        ],
        [
         "5",
         "Brazil",
         "1999",
         "population",
         "172006362"
        ]
       ],
       "shape": {
        "columns": 4,
        "rows": 6
       }
      },
      "text/html": [
       "<div>\n",
       "<style scoped>\n",
       "    .dataframe tbody tr th:only-of-type {\n",
       "        vertical-align: middle;\n",
       "    }\n",
       "\n",
       "    .dataframe tbody tr th {\n",
       "        vertical-align: top;\n",
       "    }\n",
       "\n",
       "    .dataframe thead th {\n",
       "        text-align: right;\n",
       "    }\n",
       "</style>\n",
       "<table border=\"1\" class=\"dataframe\">\n",
       "  <thead>\n",
       "    <tr style=\"text-align: right;\">\n",
       "      <th></th>\n",
       "      <th>country</th>\n",
       "      <th>year</th>\n",
       "      <th>type</th>\n",
       "      <th>count</th>\n",
       "    </tr>\n",
       "  </thead>\n",
       "  <tbody>\n",
       "    <tr>\n",
       "      <th>0</th>\n",
       "      <td>Afghanistan</td>\n",
       "      <td>1999</td>\n",
       "      <td>cases</td>\n",
       "      <td>745</td>\n",
       "    </tr>\n",
       "    <tr>\n",
       "      <th>1</th>\n",
       "      <td>Afghanistan</td>\n",
       "      <td>1999</td>\n",
       "      <td>cases</td>\n",
       "      <td>750</td>\n",
       "    </tr>\n",
       "    <tr>\n",
       "      <th>2</th>\n",
       "      <td>Afghanistan</td>\n",
       "      <td>1999</td>\n",
       "      <td>population</td>\n",
       "      <td>19987071</td>\n",
       "    </tr>\n",
       "    <tr>\n",
       "      <th>3</th>\n",
       "      <td>Afghanistan</td>\n",
       "      <td>1999</td>\n",
       "      <td>population</td>\n",
       "      <td>19987071</td>\n",
       "    </tr>\n",
       "    <tr>\n",
       "      <th>4</th>\n",
       "      <td>Brazil</td>\n",
       "      <td>1999</td>\n",
       "      <td>cases</td>\n",
       "      <td>37737</td>\n",
       "    </tr>\n",
       "    <tr>\n",
       "      <th>5</th>\n",
       "      <td>Brazil</td>\n",
       "      <td>1999</td>\n",
       "      <td>population</td>\n",
       "      <td>172006362</td>\n",
       "    </tr>\n",
       "  </tbody>\n",
       "</table>\n",
       "</div>"
      ],
      "text/plain": [
       "       country  year        type      count\n",
       "0  Afghanistan  1999       cases        745\n",
       "1  Afghanistan  1999       cases        750\n",
       "2  Afghanistan  1999  population   19987071\n",
       "3  Afghanistan  1999  population   19987071\n",
       "4       Brazil  1999       cases      37737\n",
       "5       Brazil  1999  population  172006362"
      ]
     },
     "execution_count": 21,
     "metadata": {},
     "output_type": "execute_result"
    }
   ],
   "source": [
    "data = {\n",
    "    \"country\": [\"Afghanistan\",\"Afghanistan\",\"Afghanistan\",\"Afghanistan\",\"Brazil\",\"Brazil\"],\n",
    "    \"year\":    [1999,1999,1999,1999,1999,1999],\n",
    "    \"type\":    [\"cases\",\"cases\",\"population\",\"population\",\"cases\",\"population\"],\n",
    "    \"count\":   [745,750,19987071,19987071,37737,172006362]\n",
    "}\n",
    "\n",
    "table2a_example = pd.DataFrame(data)\n",
    "table2a_example"
   ]
  },
  {
   "cell_type": "code",
   "execution_count": 27,
   "id": "dc512a53",
   "metadata": {},
   "outputs": [
    {
     "data": {
      "application/vnd.microsoft.datawrangler.viewer.v0+json": {
       "columns": [
        {
         "name": "index",
         "rawType": "int64",
         "type": "integer"
        },
        {
         "name": "country",
         "rawType": "object",
         "type": "string"
        },
        {
         "name": "year",
         "rawType": "int64",
         "type": "integer"
        },
        {
         "name": "cases",
         "rawType": "float64",
         "type": "float"
        },
        {
         "name": "population",
         "rawType": "float64",
         "type": "float"
        }
       ],
       "ref": "b9b8df88-c236-4df6-bc3e-69fb34241e0f",
       "rows": [
        [
         "0",
         "Afghanistan",
         "1999",
         "747.5",
         "19987071.0"
        ],
        [
         "1",
         "Brazil",
         "1999",
         "37737.0",
         "172006362.0"
        ]
       ],
       "shape": {
        "columns": 4,
        "rows": 2
       }
      },
      "text/html": [
       "<div>\n",
       "<style scoped>\n",
       "    .dataframe tbody tr th:only-of-type {\n",
       "        vertical-align: middle;\n",
       "    }\n",
       "\n",
       "    .dataframe tbody tr th {\n",
       "        vertical-align: top;\n",
       "    }\n",
       "\n",
       "    .dataframe thead th {\n",
       "        text-align: right;\n",
       "    }\n",
       "</style>\n",
       "<table border=\"1\" class=\"dataframe\">\n",
       "  <thead>\n",
       "    <tr style=\"text-align: right;\">\n",
       "      <th>type</th>\n",
       "      <th>country</th>\n",
       "      <th>year</th>\n",
       "      <th>cases</th>\n",
       "      <th>population</th>\n",
       "    </tr>\n",
       "  </thead>\n",
       "  <tbody>\n",
       "    <tr>\n",
       "      <th>0</th>\n",
       "      <td>Afghanistan</td>\n",
       "      <td>1999</td>\n",
       "      <td>747.5</td>\n",
       "      <td>19987071.0</td>\n",
       "    </tr>\n",
       "    <tr>\n",
       "      <th>1</th>\n",
       "      <td>Brazil</td>\n",
       "      <td>1999</td>\n",
       "      <td>37737.0</td>\n",
       "      <td>172006362.0</td>\n",
       "    </tr>\n",
       "  </tbody>\n",
       "</table>\n",
       "</div>"
      ],
      "text/plain": [
       "type      country  year    cases   population\n",
       "0     Afghanistan  1999    747.5   19987071.0\n",
       "1          Brazil  1999  37737.0  172006362.0"
      ]
     },
     "execution_count": 27,
     "metadata": {},
     "output_type": "execute_result"
    }
   ],
   "source": [
    "table2a_example.pivot_table(\n",
    "    index = ['country', 'year'], # multi-column index\n",
    "    columns = 'type', # column to take variable names from\n",
    "    values = 'count').reset_index() # column to take values from"
   ]
  },
  {
   "cell_type": "markdown",
   "id": "c64b8890",
   "metadata": {},
   "source": [
    "By default, the resultant values will be the average of the replicates, we can take care of this by explicitly stating what summary statistic we would like to see using `aggfunc=''`"
   ]
  },
  {
   "cell_type": "code",
   "execution_count": 28,
   "id": "93d96f5e",
   "metadata": {},
   "outputs": [
    {
     "data": {
      "application/vnd.microsoft.datawrangler.viewer.v0+json": {
       "columns": [
        {
         "name": "index",
         "rawType": "int64",
         "type": "integer"
        },
        {
         "name": "country",
         "rawType": "object",
         "type": "string"
        },
        {
         "name": "year",
         "rawType": "int64",
         "type": "integer"
        },
        {
         "name": "cases",
         "rawType": "int64",
         "type": "integer"
        },
        {
         "name": "population",
         "rawType": "int64",
         "type": "integer"
        }
       ],
       "ref": "21550713-ea0c-4530-8d7b-03183f7a0051",
       "rows": [
        [
         "0",
         "Afghanistan",
         "1999",
         "1495",
         "39974142"
        ],
        [
         "1",
         "Brazil",
         "1999",
         "37737",
         "172006362"
        ]
       ],
       "shape": {
        "columns": 4,
        "rows": 2
       }
      },
      "text/html": [
       "<div>\n",
       "<style scoped>\n",
       "    .dataframe tbody tr th:only-of-type {\n",
       "        vertical-align: middle;\n",
       "    }\n",
       "\n",
       "    .dataframe tbody tr th {\n",
       "        vertical-align: top;\n",
       "    }\n",
       "\n",
       "    .dataframe thead th {\n",
       "        text-align: right;\n",
       "    }\n",
       "</style>\n",
       "<table border=\"1\" class=\"dataframe\">\n",
       "  <thead>\n",
       "    <tr style=\"text-align: right;\">\n",
       "      <th>type</th>\n",
       "      <th>country</th>\n",
       "      <th>year</th>\n",
       "      <th>cases</th>\n",
       "      <th>population</th>\n",
       "    </tr>\n",
       "  </thead>\n",
       "  <tbody>\n",
       "    <tr>\n",
       "      <th>0</th>\n",
       "      <td>Afghanistan</td>\n",
       "      <td>1999</td>\n",
       "      <td>1495</td>\n",
       "      <td>39974142</td>\n",
       "    </tr>\n",
       "    <tr>\n",
       "      <th>1</th>\n",
       "      <td>Brazil</td>\n",
       "      <td>1999</td>\n",
       "      <td>37737</td>\n",
       "      <td>172006362</td>\n",
       "    </tr>\n",
       "  </tbody>\n",
       "</table>\n",
       "</div>"
      ],
      "text/plain": [
       "type      country  year  cases  population\n",
       "0     Afghanistan  1999   1495    39974142\n",
       "1          Brazil  1999  37737   172006362"
      ]
     },
     "execution_count": 28,
     "metadata": {},
     "output_type": "execute_result"
    }
   ],
   "source": [
    "table2a_example.pivot_table(\n",
    "    index = ['country', 'year'], # multi-column index\n",
    "    columns = 'type', # column to take variable names from\n",
    "    values = 'count',\n",
    "    aggfunc='sum').reset_index() # column to take values from"
   ]
  },
  {
   "cell_type": "markdown",
   "id": "3f5e0fca",
   "metadata": {},
   "source": [
    "#### Split\n",
    "\n",
    "`str.split()` pulls apart one column into multiple columns, by splitting wherever a separator character appears. Take table3:"
   ]
  },
  {
   "cell_type": "code",
   "execution_count": 36,
   "id": "9a80a349",
   "metadata": {},
   "outputs": [
    {
     "data": {
      "application/vnd.microsoft.datawrangler.viewer.v0+json": {
       "columns": [
        {
         "name": "index",
         "rawType": "int64",
         "type": "integer"
        },
        {
         "name": "country",
         "rawType": "object",
         "type": "string"
        },
        {
         "name": "year",
         "rawType": "int64",
         "type": "integer"
        },
        {
         "name": "rate",
         "rawType": "object",
         "type": "string"
        }
       ],
       "ref": "5bffc540-8f95-46b1-a3c2-dfa194d8425c",
       "rows": [
        [
         "0",
         "Afghanistan",
         "1999",
         "745/19987071"
        ],
        [
         "1",
         "Afghanistan",
         "2000",
         "2666/20595360"
        ],
        [
         "2",
         "Brazil",
         "1999",
         "37737/172006362"
        ],
        [
         "3",
         "Brazil",
         "2000",
         "80488/174504898"
        ],
        [
         "4",
         "China",
         "1999",
         "212258/1272915272"
        ],
        [
         "5",
         "China",
         "2000",
         "213766/1280428583"
        ]
       ],
       "shape": {
        "columns": 3,
        "rows": 6
       }
      },
      "text/html": [
       "<div>\n",
       "<style scoped>\n",
       "    .dataframe tbody tr th:only-of-type {\n",
       "        vertical-align: middle;\n",
       "    }\n",
       "\n",
       "    .dataframe tbody tr th {\n",
       "        vertical-align: top;\n",
       "    }\n",
       "\n",
       "    .dataframe thead th {\n",
       "        text-align: right;\n",
       "    }\n",
       "</style>\n",
       "<table border=\"1\" class=\"dataframe\">\n",
       "  <thead>\n",
       "    <tr style=\"text-align: right;\">\n",
       "      <th></th>\n",
       "      <th>country</th>\n",
       "      <th>year</th>\n",
       "      <th>rate</th>\n",
       "    </tr>\n",
       "  </thead>\n",
       "  <tbody>\n",
       "    <tr>\n",
       "      <th>0</th>\n",
       "      <td>Afghanistan</td>\n",
       "      <td>1999</td>\n",
       "      <td>745/19987071</td>\n",
       "    </tr>\n",
       "    <tr>\n",
       "      <th>1</th>\n",
       "      <td>Afghanistan</td>\n",
       "      <td>2000</td>\n",
       "      <td>2666/20595360</td>\n",
       "    </tr>\n",
       "    <tr>\n",
       "      <th>2</th>\n",
       "      <td>Brazil</td>\n",
       "      <td>1999</td>\n",
       "      <td>37737/172006362</td>\n",
       "    </tr>\n",
       "    <tr>\n",
       "      <th>3</th>\n",
       "      <td>Brazil</td>\n",
       "      <td>2000</td>\n",
       "      <td>80488/174504898</td>\n",
       "    </tr>\n",
       "    <tr>\n",
       "      <th>4</th>\n",
       "      <td>China</td>\n",
       "      <td>1999</td>\n",
       "      <td>212258/1272915272</td>\n",
       "    </tr>\n",
       "    <tr>\n",
       "      <th>5</th>\n",
       "      <td>China</td>\n",
       "      <td>2000</td>\n",
       "      <td>213766/1280428583</td>\n",
       "    </tr>\n",
       "  </tbody>\n",
       "</table>\n",
       "</div>"
      ],
      "text/plain": [
       "       country  year               rate\n",
       "0  Afghanistan  1999       745/19987071\n",
       "1  Afghanistan  2000      2666/20595360\n",
       "2       Brazil  1999    37737/172006362\n",
       "3       Brazil  2000    80488/174504898\n",
       "4        China  1999  212258/1272915272\n",
       "5        China  2000  213766/1280428583"
      ]
     },
     "execution_count": 36,
     "metadata": {},
     "output_type": "execute_result"
    }
   ],
   "source": [
    "table3"
   ]
  },
  {
   "cell_type": "markdown",
   "id": "9e6afbce",
   "metadata": {},
   "source": [
    "The rate column contains both cases and population variables, and we need to split it into two variables. `str.split()` takes the name of the column to split. The names of the columns to separate into can be names using `rename()`."
   ]
  },
  {
   "cell_type": "code",
   "execution_count": null,
   "id": "20ec9179",
   "metadata": {},
   "outputs": [
    {
     "data": {
      "application/vnd.microsoft.datawrangler.viewer.v0+json": {
       "columns": [
        {
         "name": "index",
         "rawType": "int64",
         "type": "integer"
        },
        {
         "name": "country",
         "rawType": "object",
         "type": "string"
        },
        {
         "name": "year",
         "rawType": "int64",
         "type": "integer"
        },
        {
         "name": "cases",
         "rawType": "float64",
         "type": "float"
        },
        {
         "name": "population",
         "rawType": "float64",
         "type": "float"
        }
       ],
       "ref": "00ee4403-08e9-4c0c-bdf5-eb858a2fe8af",
       "rows": [
        [
         "0",
         "Afghanistan",
         "1999",
         "745.0",
         "19987071.0"
        ],
        [
         "1",
         "Afghanistan",
         "2000",
         "2666.0",
         "20595360.0"
        ],
        [
         "2",
         "Brazil",
         "1999",
         "37737.0",
         "172006362.0"
        ],
        [
         "3",
         "Brazil",
         "2000",
         "80488.0",
         "174504898.0"
        ],
        [
         "4",
         "China",
         "1999",
         "212258.0",
         "1272915272.0"
        ],
        [
         "5",
         "China",
         "2000",
         "213766.0",
         "1280428583.0"
        ]
       ],
       "shape": {
        "columns": 4,
        "rows": 6
       }
      },
      "text/html": [
       "<div>\n",
       "<style scoped>\n",
       "    .dataframe tbody tr th:only-of-type {\n",
       "        vertical-align: middle;\n",
       "    }\n",
       "\n",
       "    .dataframe tbody tr th {\n",
       "        vertical-align: top;\n",
       "    }\n",
       "\n",
       "    .dataframe thead th {\n",
       "        text-align: right;\n",
       "    }\n",
       "</style>\n",
       "<table border=\"1\" class=\"dataframe\">\n",
       "  <thead>\n",
       "    <tr style=\"text-align: right;\">\n",
       "      <th></th>\n",
       "      <th>country</th>\n",
       "      <th>year</th>\n",
       "      <th>cases</th>\n",
       "      <th>population</th>\n",
       "    </tr>\n",
       "  </thead>\n",
       "  <tbody>\n",
       "    <tr>\n",
       "      <th>0</th>\n",
       "      <td>Afghanistan</td>\n",
       "      <td>1999</td>\n",
       "      <td>745.0</td>\n",
       "      <td>1.998707e+07</td>\n",
       "    </tr>\n",
       "    <tr>\n",
       "      <th>1</th>\n",
       "      <td>Afghanistan</td>\n",
       "      <td>2000</td>\n",
       "      <td>2666.0</td>\n",
       "      <td>2.059536e+07</td>\n",
       "    </tr>\n",
       "    <tr>\n",
       "      <th>2</th>\n",
       "      <td>Brazil</td>\n",
       "      <td>1999</td>\n",
       "      <td>37737.0</td>\n",
       "      <td>1.720064e+08</td>\n",
       "    </tr>\n",
       "    <tr>\n",
       "      <th>3</th>\n",
       "      <td>Brazil</td>\n",
       "      <td>2000</td>\n",
       "      <td>80488.0</td>\n",
       "      <td>1.745049e+08</td>\n",
       "    </tr>\n",
       "    <tr>\n",
       "      <th>4</th>\n",
       "      <td>China</td>\n",
       "      <td>1999</td>\n",
       "      <td>212258.0</td>\n",
       "      <td>1.272915e+09</td>\n",
       "    </tr>\n",
       "    <tr>\n",
       "      <th>5</th>\n",
       "      <td>China</td>\n",
       "      <td>2000</td>\n",
       "      <td>213766.0</td>\n",
       "      <td>1.280429e+09</td>\n",
       "    </tr>\n",
       "  </tbody>\n",
       "</table>\n",
       "</div>"
      ],
      "text/plain": [
       "       country  year     cases    population\n",
       "0  Afghanistan  1999     745.0  1.998707e+07\n",
       "1  Afghanistan  2000    2666.0  2.059536e+07\n",
       "2       Brazil  1999   37737.0  1.720064e+08\n",
       "3       Brazil  2000   80488.0  1.745049e+08\n",
       "4        China  1999  212258.0  1.272915e+09\n",
       "5        China  2000  213766.0  1.280429e+09"
      ]
     },
     "execution_count": 42,
     "metadata": {},
     "output_type": "execute_result"
    }
   ],
   "source": [
    "new_columns = (table3.\n",
    "  rate.str.split(\"/\", expand = True).\n",
    "  rename(columns = {0: \"cases\", 1: \"population\"})\n",
    "  )\n",
    "\n",
    "pd.concat([table3.drop(columns = 'rate'), new_columns.astype('float')], axis = 1) # axis =1 means concatenate columns"
   ]
  },
  {
   "cell_type": "markdown",
   "id": "2d478cc2",
   "metadata": {},
   "source": [
    "#### Unite\n",
    "\n",
    "For two string series the inverse of `str.split()` can be done with `+`: it combines multiple columns into a single column. "
   ]
  },
  {
   "cell_type": "code",
   "execution_count": 44,
   "id": "92b794d0",
   "metadata": {},
   "outputs": [
    {
     "data": {
      "application/vnd.microsoft.datawrangler.viewer.v0+json": {
       "columns": [
        {
         "name": "index",
         "rawType": "int64",
         "type": "integer"
        },
        {
         "name": "country",
         "rawType": "object",
         "type": "string"
        },
        {
         "name": "century",
         "rawType": "object",
         "type": "string"
        },
        {
         "name": "year",
         "rawType": "object",
         "type": "string"
        },
        {
         "name": "rate",
         "rawType": "object",
         "type": "string"
        },
        {
         "name": "new",
         "rawType": "object",
         "type": "string"
        }
       ],
       "ref": "a8923264-5dcc-49d8-bbfd-2e53a4bf242e",
       "rows": [
        [
         "0",
         "Afghanistan",
         "19",
         "99",
         "745/19987071",
         "1999"
        ],
        [
         "1",
         "Afghanistan",
         "20",
         "00",
         "2666/20595360",
         "2000"
        ],
        [
         "2",
         "Brazil",
         "19",
         "99",
         "37737/172006362",
         "1999"
        ],
        [
         "3",
         "Brazil",
         "20",
         "00",
         "80488/174504898",
         "2000"
        ],
        [
         "4",
         "China",
         "19",
         "99",
         "212258/1272915272",
         "1999"
        ],
        [
         "5",
         "China",
         "20",
         "00",
         "213766/1280428583",
         "2000"
        ]
       ],
       "shape": {
        "columns": 5,
        "rows": 6
       }
      },
      "text/html": [
       "<div>\n",
       "<style scoped>\n",
       "    .dataframe tbody tr th:only-of-type {\n",
       "        vertical-align: middle;\n",
       "    }\n",
       "\n",
       "    .dataframe tbody tr th {\n",
       "        vertical-align: top;\n",
       "    }\n",
       "\n",
       "    .dataframe thead th {\n",
       "        text-align: right;\n",
       "    }\n",
       "</style>\n",
       "<table border=\"1\" class=\"dataframe\">\n",
       "  <thead>\n",
       "    <tr style=\"text-align: right;\">\n",
       "      <th></th>\n",
       "      <th>country</th>\n",
       "      <th>century</th>\n",
       "      <th>year</th>\n",
       "      <th>rate</th>\n",
       "      <th>new</th>\n",
       "    </tr>\n",
       "  </thead>\n",
       "  <tbody>\n",
       "    <tr>\n",
       "      <th>0</th>\n",
       "      <td>Afghanistan</td>\n",
       "      <td>19</td>\n",
       "      <td>99</td>\n",
       "      <td>745/19987071</td>\n",
       "      <td>1999</td>\n",
       "    </tr>\n",
       "    <tr>\n",
       "      <th>1</th>\n",
       "      <td>Afghanistan</td>\n",
       "      <td>20</td>\n",
       "      <td>00</td>\n",
       "      <td>2666/20595360</td>\n",
       "      <td>2000</td>\n",
       "    </tr>\n",
       "    <tr>\n",
       "      <th>2</th>\n",
       "      <td>Brazil</td>\n",
       "      <td>19</td>\n",
       "      <td>99</td>\n",
       "      <td>37737/172006362</td>\n",
       "      <td>1999</td>\n",
       "    </tr>\n",
       "    <tr>\n",
       "      <th>3</th>\n",
       "      <td>Brazil</td>\n",
       "      <td>20</td>\n",
       "      <td>00</td>\n",
       "      <td>80488/174504898</td>\n",
       "      <td>2000</td>\n",
       "    </tr>\n",
       "    <tr>\n",
       "      <th>4</th>\n",
       "      <td>China</td>\n",
       "      <td>19</td>\n",
       "      <td>99</td>\n",
       "      <td>212258/1272915272</td>\n",
       "      <td>1999</td>\n",
       "    </tr>\n",
       "    <tr>\n",
       "      <th>5</th>\n",
       "      <td>China</td>\n",
       "      <td>20</td>\n",
       "      <td>00</td>\n",
       "      <td>213766/1280428583</td>\n",
       "      <td>2000</td>\n",
       "    </tr>\n",
       "  </tbody>\n",
       "</table>\n",
       "</div>"
      ],
      "text/plain": [
       "       country century year               rate   new\n",
       "0  Afghanistan      19   99       745/19987071  1999\n",
       "1  Afghanistan      20   00      2666/20595360  2000\n",
       "2       Brazil      19   99    37737/172006362  1999\n",
       "3       Brazil      20   00    80488/174504898  2000\n",
       "4        China      19   99  212258/1272915272  1999\n",
       "5        China      20   00  213766/1280428583  2000"
      ]
     },
     "execution_count": 44,
     "metadata": {},
     "output_type": "execute_result"
    }
   ],
   "source": [
    "table5['new'] = table5['century'] + table5['year']\n",
    "table5"
   ]
  },
  {
   "cell_type": "code",
   "execution_count": 45,
   "id": "1b972ab5",
   "metadata": {},
   "outputs": [
    {
     "data": {
      "application/vnd.microsoft.datawrangler.viewer.v0+json": {
       "columns": [
        {
         "name": "index",
         "rawType": "int64",
         "type": "integer"
        },
        {
         "name": "country",
         "rawType": "object",
         "type": "string"
        },
        {
         "name": "century",
         "rawType": "object",
         "type": "string"
        },
        {
         "name": "year",
         "rawType": "object",
         "type": "string"
        },
        {
         "name": "rate",
         "rawType": "object",
         "type": "string"
        },
        {
         "name": "new",
         "rawType": "object",
         "type": "string"
        }
       ],
       "ref": "907a1c06-ffa0-4b44-ad3e-04d55c30dae4",
       "rows": [
        [
         "0",
         "Afghanistan",
         "19",
         "99",
         "745/19987071",
         "1999"
        ],
        [
         "1",
         "Afghanistan",
         "20",
         "00",
         "2666/20595360",
         "2000"
        ],
        [
         "2",
         "Brazil",
         "19",
         "99",
         "37737/172006362",
         "1999"
        ],
        [
         "3",
         "Brazil",
         "20",
         "00",
         "80488/174504898",
         "2000"
        ],
        [
         "4",
         "China",
         "19",
         "99",
         "212258/1272915272",
         "1999"
        ],
        [
         "5",
         "China",
         "20",
         "00",
         "213766/1280428583",
         "2000"
        ]
       ],
       "shape": {
        "columns": 5,
        "rows": 6
       }
      },
      "text/html": [
       "<div>\n",
       "<style scoped>\n",
       "    .dataframe tbody tr th:only-of-type {\n",
       "        vertical-align: middle;\n",
       "    }\n",
       "\n",
       "    .dataframe tbody tr th {\n",
       "        vertical-align: top;\n",
       "    }\n",
       "\n",
       "    .dataframe thead th {\n",
       "        text-align: right;\n",
       "    }\n",
       "</style>\n",
       "<table border=\"1\" class=\"dataframe\">\n",
       "  <thead>\n",
       "    <tr style=\"text-align: right;\">\n",
       "      <th></th>\n",
       "      <th>country</th>\n",
       "      <th>century</th>\n",
       "      <th>year</th>\n",
       "      <th>rate</th>\n",
       "      <th>new</th>\n",
       "    </tr>\n",
       "  </thead>\n",
       "  <tbody>\n",
       "    <tr>\n",
       "      <th>0</th>\n",
       "      <td>Afghanistan</td>\n",
       "      <td>19</td>\n",
       "      <td>99</td>\n",
       "      <td>745/19987071</td>\n",
       "      <td>1999</td>\n",
       "    </tr>\n",
       "    <tr>\n",
       "      <th>1</th>\n",
       "      <td>Afghanistan</td>\n",
       "      <td>20</td>\n",
       "      <td>00</td>\n",
       "      <td>2666/20595360</td>\n",
       "      <td>2000</td>\n",
       "    </tr>\n",
       "    <tr>\n",
       "      <th>2</th>\n",
       "      <td>Brazil</td>\n",
       "      <td>19</td>\n",
       "      <td>99</td>\n",
       "      <td>37737/172006362</td>\n",
       "      <td>1999</td>\n",
       "    </tr>\n",
       "    <tr>\n",
       "      <th>3</th>\n",
       "      <td>Brazil</td>\n",
       "      <td>20</td>\n",
       "      <td>00</td>\n",
       "      <td>80488/174504898</td>\n",
       "      <td>2000</td>\n",
       "    </tr>\n",
       "    <tr>\n",
       "      <th>4</th>\n",
       "      <td>China</td>\n",
       "      <td>19</td>\n",
       "      <td>99</td>\n",
       "      <td>212258/1272915272</td>\n",
       "      <td>1999</td>\n",
       "    </tr>\n",
       "    <tr>\n",
       "      <th>5</th>\n",
       "      <td>China</td>\n",
       "      <td>20</td>\n",
       "      <td>00</td>\n",
       "      <td>213766/1280428583</td>\n",
       "      <td>2000</td>\n",
       "    </tr>\n",
       "  </tbody>\n",
       "</table>\n",
       "</div>"
      ],
      "text/plain": [
       "       country century year               rate   new\n",
       "0  Afghanistan      19   99       745/19987071  1999\n",
       "1  Afghanistan      20   00      2666/20595360  2000\n",
       "2       Brazil      19   99    37737/172006362  1999\n",
       "3       Brazil      20   00    80488/174504898  2000\n",
       "4        China      19   99  212258/1272915272  1999\n",
       "5        China      20   00  213766/1280428583  2000"
      ]
     },
     "execution_count": 45,
     "metadata": {},
     "output_type": "execute_result"
    }
   ],
   "source": [
    "table5.assign(new = table5['century'] + table5['year'])\n",
    "table5"
   ]
  },
  {
   "cell_type": "markdown",
   "id": "97c432d8",
   "metadata": {},
   "source": [
    "#### Exercise 1: From Long to Wide\n",
    "\n",
    "Task: \n",
    "\n",
    "`ukbabynames` contains a listing of UK baby names occurring more than three times per year\n",
    "between 1974 and 2020\n",
    "\n",
    "The dataset contains columns like `year`, `sex`, `name`, and `n`.\n",
    "\n",
    "Use `.pivot()` or `.pivot_table()` **(recall the unique index!)** to find the total number of babies born by sex in each year.\n",
    "\n",
    "Rows should be years, columns should be sex (M / F), and values should be the sum of counts.\n",
    "\n",
    "**Challenge - calculate the percent of babies who are female using your now tidy dataset**"
   ]
  },
  {
   "cell_type": "code",
   "execution_count": 61,
   "id": "205b7789",
   "metadata": {},
   "outputs": [
    {
     "data": {
      "application/vnd.microsoft.datawrangler.viewer.v0+json": {
       "columns": [
        {
         "name": "index",
         "rawType": "int64",
         "type": "integer"
        },
        {
         "name": "year",
         "rawType": "int64",
         "type": "integer"
        },
        {
         "name": "sex",
         "rawType": "object",
         "type": "string"
        },
        {
         "name": "name",
         "rawType": "object",
         "type": "unknown"
        },
        {
         "name": "n",
         "rawType": "int64",
         "type": "integer"
        },
        {
         "name": "rank",
         "rawType": "int64",
         "type": "integer"
        },
        {
         "name": "nation",
         "rawType": "object",
         "type": "string"
        }
       ],
       "ref": "b350e07f-bec0-4144-b063-4cd529c29698",
       "rows": [
        [
         "0",
         "1996",
         "F",
         "SOPHIE",
         "7087",
         "1",
         "England & Wales"
        ],
        [
         "1",
         "1996",
         "F",
         "CHLOE",
         "6824",
         "2",
         "England & Wales"
        ],
        [
         "2",
         "1996",
         "F",
         "JESSICA",
         "6711",
         "3",
         "England & Wales"
        ],
        [
         "3",
         "1996",
         "F",
         "EMILY",
         "6415",
         "4",
         "England & Wales"
        ],
        [
         "4",
         "1996",
         "F",
         "LAUREN",
         "6299",
         "5",
         "England & Wales"
        ],
        [
         "5",
         "1996",
         "F",
         "HANNAH",
         "5916",
         "6",
         "England & Wales"
        ],
        [
         "6",
         "1996",
         "F",
         "CHARLOTTE",
         "5866",
         "7",
         "England & Wales"
        ],
        [
         "7",
         "1996",
         "F",
         "REBECCA",
         "5828",
         "8",
         "England & Wales"
        ],
        [
         "8",
         "1996",
         "F",
         "AMY",
         "5206",
         "9",
         "England & Wales"
        ],
        [
         "9",
         "1996",
         "F",
         "MEGAN",
         "4948",
         "10",
         "England & Wales"
        ],
        [
         "10",
         "1996",
         "F",
         "SHANNON",
         "4649",
         "11",
         "England & Wales"
        ],
        [
         "11",
         "1996",
         "F",
         "KATIE",
         "4337",
         "12",
         "England & Wales"
        ],
        [
         "12",
         "1996",
         "F",
         "BETHANY",
         "4271",
         "13",
         "England & Wales"
        ],
        [
         "13",
         "1996",
         "F",
         "EMMA",
         "4232",
         "14",
         "England & Wales"
        ],
        [
         "14",
         "1996",
         "F",
         "LUCY",
         "3753",
         "15",
         "England & Wales"
        ],
        [
         "15",
         "1996",
         "F",
         "GEORGIA",
         "3723",
         "16",
         "England & Wales"
        ],
        [
         "16",
         "1996",
         "F",
         "LAURA",
         "3582",
         "17",
         "England & Wales"
        ],
        [
         "17",
         "1996",
         "F",
         "SARAH",
         "3111",
         "18",
         "England & Wales"
        ],
        [
         "18",
         "1996",
         "F",
         "JADE",
         "2750",
         "19",
         "England & Wales"
        ],
        [
         "19",
         "1996",
         "F",
         "DANIELLE",
         "2641",
         "20",
         "England & Wales"
        ],
        [
         "20",
         "1996",
         "F",
         "ABIGAIL",
         "2595",
         "21",
         "England & Wales"
        ],
        [
         "21",
         "1996",
         "F",
         "ELEANOR",
         "2555",
         "22",
         "England & Wales"
        ],
        [
         "22",
         "1996",
         "F",
         "HOLLY",
         "2498",
         "23",
         "England & Wales"
        ],
        [
         "23",
         "1996",
         "F",
         "OLIVIA",
         "2456",
         "24",
         "England & Wales"
        ],
        [
         "24",
         "1996",
         "F",
         "ALICE",
         "2357",
         "25",
         "England & Wales"
        ],
        [
         "25",
         "1996",
         "F",
         "ELIZABETH",
         "2225",
         "26",
         "England & Wales"
        ],
        [
         "26",
         "1996",
         "F",
         "RACHEL",
         "2105",
         "27",
         "England & Wales"
        ],
        [
         "27",
         "1996",
         "F",
         "PAIGE",
         "2052",
         "28",
         "England & Wales"
        ],
        [
         "28",
         "1996",
         "F",
         "MOLLY",
         "2026",
         "29",
         "England & Wales"
        ],
        [
         "29",
         "1996",
         "F",
         "ELLIE",
         "1900",
         "30",
         "England & Wales"
        ],
        [
         "30",
         "1996",
         "F",
         "ZOE",
         "1897",
         "31",
         "England & Wales"
        ],
        [
         "31",
         "1996",
         "F",
         "SAMANTHA",
         "1854",
         "32",
         "England & Wales"
        ],
        [
         "32",
         "1996",
         "F",
         "NATASHA",
         "1751",
         "33",
         "England & Wales"
        ],
        [
         "33",
         "1996",
         "F",
         "CHELSEA",
         "1735",
         "34",
         "England & Wales"
        ],
        [
         "34",
         "1996",
         "F",
         "LEAH",
         "1705",
         "35",
         "England & Wales"
        ],
        [
         "35",
         "1996",
         "F",
         "NICOLE",
         "1679",
         "36",
         "England & Wales"
        ],
        [
         "36",
         "1996",
         "F",
         "VICTORIA",
         "1627",
         "37",
         "England & Wales"
        ],
        [
         "37",
         "1996",
         "F",
         "ALEXANDRA",
         "1595",
         "38",
         "England & Wales"
        ],
        [
         "38",
         "1996",
         "F",
         "GEORGINA",
         "1593",
         "39",
         "England & Wales"
        ],
        [
         "39",
         "1996",
         "F",
         "AMBER",
         "1422",
         "40",
         "England & Wales"
        ],
        [
         "40",
         "1996",
         "F",
         "GRACE",
         "1421",
         "41",
         "England & Wales"
        ],
        [
         "41",
         "1996",
         "F",
         "NATALIE",
         "1393",
         "42",
         "England & Wales"
        ],
        [
         "42",
         "1996",
         "F",
         "JODIE",
         "1354",
         "43",
         "England & Wales"
        ],
        [
         "43",
         "1996",
         "F",
         "LOUISE",
         "1309",
         "44",
         "England & Wales"
        ],
        [
         "44",
         "1996",
         "F",
         "ABBIE",
         "1297",
         "45",
         "England & Wales"
        ],
        [
         "45",
         "1996",
         "F",
         "MELISSA",
         "1282",
         "46",
         "England & Wales"
        ],
        [
         "46",
         "1996",
         "F",
         "ANNA",
         "1274",
         "47",
         "England & Wales"
        ],
        [
         "47",
         "1996",
         "F",
         "KATHERINE",
         "1266",
         "48",
         "England & Wales"
        ],
        [
         "48",
         "1996",
         "F",
         "STEPHANIE",
         "1266",
         "48",
         "England & Wales"
        ],
        [
         "49",
         "1996",
         "F",
         "GEMMA",
         "1261",
         "50",
         "England & Wales"
        ]
       ],
       "shape": {
        "columns": 6,
        "rows": 565817
       }
      },
      "text/html": [
       "<div>\n",
       "<style scoped>\n",
       "    .dataframe tbody tr th:only-of-type {\n",
       "        vertical-align: middle;\n",
       "    }\n",
       "\n",
       "    .dataframe tbody tr th {\n",
       "        vertical-align: top;\n",
       "    }\n",
       "\n",
       "    .dataframe thead th {\n",
       "        text-align: right;\n",
       "    }\n",
       "</style>\n",
       "<table border=\"1\" class=\"dataframe\">\n",
       "  <thead>\n",
       "    <tr style=\"text-align: right;\">\n",
       "      <th></th>\n",
       "      <th>year</th>\n",
       "      <th>sex</th>\n",
       "      <th>name</th>\n",
       "      <th>n</th>\n",
       "      <th>rank</th>\n",
       "      <th>nation</th>\n",
       "    </tr>\n",
       "  </thead>\n",
       "  <tbody>\n",
       "    <tr>\n",
       "      <th>0</th>\n",
       "      <td>1996</td>\n",
       "      <td>F</td>\n",
       "      <td>SOPHIE</td>\n",
       "      <td>7087</td>\n",
       "      <td>1</td>\n",
       "      <td>England &amp; Wales</td>\n",
       "    </tr>\n",
       "    <tr>\n",
       "      <th>1</th>\n",
       "      <td>1996</td>\n",
       "      <td>F</td>\n",
       "      <td>CHLOE</td>\n",
       "      <td>6824</td>\n",
       "      <td>2</td>\n",
       "      <td>England &amp; Wales</td>\n",
       "    </tr>\n",
       "    <tr>\n",
       "      <th>2</th>\n",
       "      <td>1996</td>\n",
       "      <td>F</td>\n",
       "      <td>JESSICA</td>\n",
       "      <td>6711</td>\n",
       "      <td>3</td>\n",
       "      <td>England &amp; Wales</td>\n",
       "    </tr>\n",
       "    <tr>\n",
       "      <th>3</th>\n",
       "      <td>1996</td>\n",
       "      <td>F</td>\n",
       "      <td>EMILY</td>\n",
       "      <td>6415</td>\n",
       "      <td>4</td>\n",
       "      <td>England &amp; Wales</td>\n",
       "    </tr>\n",
       "    <tr>\n",
       "      <th>4</th>\n",
       "      <td>1996</td>\n",
       "      <td>F</td>\n",
       "      <td>LAUREN</td>\n",
       "      <td>6299</td>\n",
       "      <td>5</td>\n",
       "      <td>England &amp; Wales</td>\n",
       "    </tr>\n",
       "    <tr>\n",
       "      <th>...</th>\n",
       "      <td>...</td>\n",
       "      <td>...</td>\n",
       "      <td>...</td>\n",
       "      <td>...</td>\n",
       "      <td>...</td>\n",
       "      <td>...</td>\n",
       "    </tr>\n",
       "    <tr>\n",
       "      <th>565812</th>\n",
       "      <td>2020</td>\n",
       "      <td>F</td>\n",
       "      <td>Teagan</td>\n",
       "      <td>3</td>\n",
       "      <td>397</td>\n",
       "      <td>Northern Ireland</td>\n",
       "    </tr>\n",
       "    <tr>\n",
       "      <th>565813</th>\n",
       "      <td>2020</td>\n",
       "      <td>F</td>\n",
       "      <td>Teaghan</td>\n",
       "      <td>3</td>\n",
       "      <td>397</td>\n",
       "      <td>Northern Ireland</td>\n",
       "    </tr>\n",
       "    <tr>\n",
       "      <th>565814</th>\n",
       "      <td>2020</td>\n",
       "      <td>F</td>\n",
       "      <td>Tiffany</td>\n",
       "      <td>3</td>\n",
       "      <td>397</td>\n",
       "      <td>Northern Ireland</td>\n",
       "    </tr>\n",
       "    <tr>\n",
       "      <th>565815</th>\n",
       "      <td>2020</td>\n",
       "      <td>F</td>\n",
       "      <td>Treasa</td>\n",
       "      <td>3</td>\n",
       "      <td>397</td>\n",
       "      <td>Northern Ireland</td>\n",
       "    </tr>\n",
       "    <tr>\n",
       "      <th>565816</th>\n",
       "      <td>2020</td>\n",
       "      <td>F</td>\n",
       "      <td>Abbie-Rose</td>\n",
       "      <td>2</td>\n",
       "      <td>531</td>\n",
       "      <td>Northern Ireland</td>\n",
       "    </tr>\n",
       "  </tbody>\n",
       "</table>\n",
       "<p>565817 rows × 6 columns</p>\n",
       "</div>"
      ],
      "text/plain": [
       "        year sex        name     n  rank            nation\n",
       "0       1996   F      SOPHIE  7087     1   England & Wales\n",
       "1       1996   F       CHLOE  6824     2   England & Wales\n",
       "2       1996   F     JESSICA  6711     3   England & Wales\n",
       "3       1996   F       EMILY  6415     4   England & Wales\n",
       "4       1996   F      LAUREN  6299     5   England & Wales\n",
       "...      ...  ..         ...   ...   ...               ...\n",
       "565812  2020   F      Teagan     3   397  Northern Ireland\n",
       "565813  2020   F     Teaghan     3   397  Northern Ireland\n",
       "565814  2020   F     Tiffany     3   397  Northern Ireland\n",
       "565815  2020   F      Treasa     3   397  Northern Ireland\n",
       "565816  2020   F  Abbie-Rose     2   531  Northern Ireland\n",
       "\n",
       "[565817 rows x 6 columns]"
      ]
     },
     "execution_count": 61,
     "metadata": {},
     "output_type": "execute_result"
    }
   ],
   "source": [
    "# Import the dataset as gapminder using pd.read_csv()\n",
    "babynames = pd.read_csv('../Data/ukbabynames.csv')\n",
    "babynames\n",
    "# babynames.info()"
   ]
  },
  {
   "cell_type": "code",
   "execution_count": null,
   "id": "e265869f",
   "metadata": {},
   "outputs": [
    {
     "data": {
      "application/vnd.microsoft.datawrangler.viewer.v0+json": {
       "columns": [
        {
         "name": "year",
         "rawType": "int64",
         "type": "integer"
        },
        {
         "name": "F",
         "rawType": "int64",
         "type": "integer"
        },
        {
         "name": "M",
         "rawType": "int64",
         "type": "integer"
        },
        {
         "name": "pct_female",
         "rawType": "float64",
         "type": "float"
        }
       ],
       "ref": "ea0974db-115f-43a3-8d23-785bf4c18692",
       "rows": [
        [
         "1974",
         "34228",
         "35773",
         "48.896444336509475"
        ],
        [
         "1975",
         "32897",
         "34965",
         "48.476319589755676"
        ],
        [
         "1976",
         "31364",
         "33465",
         "48.3795832112172"
        ],
        [
         "1977",
         "30318",
         "31954",
         "48.68640801644399"
        ],
        [
         "1978",
         "31221",
         "33031",
         "48.591483533586505"
        ],
        [
         "1979",
         "33004",
         "35323",
         "48.30301345002708"
        ],
        [
         "1980",
         "33474",
         "35367",
         "48.625092604697784"
        ],
        [
         "1981",
         "33755",
         "35266",
         "48.90540560119384"
        ],
        [
         "1982",
         "32270",
         "33895",
         "48.77200937051311"
        ],
        [
         "1983",
         "31419",
         "33651",
         "48.284923928077454"
        ],
        [
         "1984",
         "31956",
         "33136",
         "49.09359061021324"
        ],
        [
         "1985",
         "32550",
         "34113",
         "48.82768552270375"
        ],
        [
         "1986",
         "31935",
         "33871",
         "48.52900951281038"
        ],
        [
         "1987",
         "32269",
         "33965",
         "48.71969079324818"
        ],
        [
         "1988",
         "32149",
         "34056",
         "48.559776451929615"
        ],
        [
         "1989",
         "30975",
         "32503",
         "48.79643341000032"
        ],
        [
         "1990",
         "32071",
         "33896",
         "48.61673260872861"
        ],
        [
         "1991",
         "32604",
         "34418",
         "48.6467130196055"
        ],
        [
         "1992",
         "32177",
         "33610",
         "48.91087904905224"
        ],
        [
         "1993",
         "30961",
         "32373",
         "48.885274891843245"
        ],
        [
         "1994",
         "30256",
         "31397",
         "49.07465978946686"
        ],
        [
         "1995",
         "29399",
         "30650",
         "48.958350680277775"
        ],
        [
         "1996",
         "324769",
         "349040",
         "48.19897033135503"
        ],
        [
         "1997",
         "332698",
         "356674",
         "48.261025977266264"
        ],
        [
         "1998",
         "327497",
         "351389",
         "48.24035257760508"
        ],
        [
         "1999",
         "318391",
         "342790",
         "48.15489253320951"
        ],
        [
         "2000",
         "308417",
         "330920",
         "48.240130009681906"
        ],
        [
         "2001",
         "303212",
         "325328",
         "48.240684761510806"
        ],
        [
         "2002",
         "301787",
         "324809",
         "48.162931139043344"
        ],
        [
         "2003",
         "313344",
         "337030",
         "48.179047747911206"
        ],
        [
         "2004",
         "321645",
         "347030",
         "48.10184319736793"
        ],
        [
         "2005",
         "324244",
         "348202",
         "48.21859301713446"
        ],
        [
         "2006",
         "336341",
         "360017",
         "48.300012349969414"
        ],
        [
         "2007",
         "344643",
         "372711",
         "48.043643724019105"
        ],
        [
         "2008",
         "356142",
         "382245",
         "48.23243096100013"
        ],
        [
         "2009",
         "352882",
         "380257",
         "48.13302797968734"
        ],
        [
         "2010",
         "360834",
         "388079",
         "48.18103037335445"
        ],
        [
         "2011",
         "360548",
         "387730",
         "48.18369643367839"
        ],
        [
         "2012",
         "360850",
         "390068",
         "48.05451460745381"
        ],
        [
         "2013",
         "345764",
         "373704",
         "48.05828751243975"
        ],
        [
         "2014",
         "344302",
         "372653",
         "48.022818726419366"
        ],
        [
         "2015",
         "344583",
         "372921",
         "48.025237489965214"
        ],
        [
         "2016",
         "343217",
         "371315",
         "48.03381793957443"
        ],
        [
         "2017",
         "334057",
         "360691",
         "48.08318987604138"
        ],
        [
         "2018",
         "322649",
         "349302",
         "48.01674526862822"
        ],
        [
         "2019",
         "313134",
         "339881",
         "47.952037855179434"
        ],
        [
         "2020",
         "299439",
         "322434",
         "48.15114983284368"
        ]
       ],
       "shape": {
        "columns": 3,
        "rows": 47
       }
      },
      "text/html": [
       "<div>\n",
       "<style scoped>\n",
       "    .dataframe tbody tr th:only-of-type {\n",
       "        vertical-align: middle;\n",
       "    }\n",
       "\n",
       "    .dataframe tbody tr th {\n",
       "        vertical-align: top;\n",
       "    }\n",
       "\n",
       "    .dataframe thead th {\n",
       "        text-align: right;\n",
       "    }\n",
       "</style>\n",
       "<table border=\"1\" class=\"dataframe\">\n",
       "  <thead>\n",
       "    <tr style=\"text-align: right;\">\n",
       "      <th>sex</th>\n",
       "      <th>F</th>\n",
       "      <th>M</th>\n",
       "      <th>pct_female</th>\n",
       "    </tr>\n",
       "    <tr>\n",
       "      <th>year</th>\n",
       "      <th></th>\n",
       "      <th></th>\n",
       "      <th></th>\n",
       "    </tr>\n",
       "  </thead>\n",
       "  <tbody>\n",
       "    <tr>\n",
       "      <th>1974</th>\n",
       "      <td>34228</td>\n",
       "      <td>35773</td>\n",
       "      <td>48.896444</td>\n",
       "    </tr>\n",
       "    <tr>\n",
       "      <th>1975</th>\n",
       "      <td>32897</td>\n",
       "      <td>34965</td>\n",
       "      <td>48.476320</td>\n",
       "    </tr>\n",
       "    <tr>\n",
       "      <th>1976</th>\n",
       "      <td>31364</td>\n",
       "      <td>33465</td>\n",
       "      <td>48.379583</td>\n",
       "    </tr>\n",
       "    <tr>\n",
       "      <th>1977</th>\n",
       "      <td>30318</td>\n",
       "      <td>31954</td>\n",
       "      <td>48.686408</td>\n",
       "    </tr>\n",
       "    <tr>\n",
       "      <th>1978</th>\n",
       "      <td>31221</td>\n",
       "      <td>33031</td>\n",
       "      <td>48.591484</td>\n",
       "    </tr>\n",
       "    <tr>\n",
       "      <th>1979</th>\n",
       "      <td>33004</td>\n",
       "      <td>35323</td>\n",
       "      <td>48.303013</td>\n",
       "    </tr>\n",
       "    <tr>\n",
       "      <th>1980</th>\n",
       "      <td>33474</td>\n",
       "      <td>35367</td>\n",
       "      <td>48.625093</td>\n",
       "    </tr>\n",
       "    <tr>\n",
       "      <th>1981</th>\n",
       "      <td>33755</td>\n",
       "      <td>35266</td>\n",
       "      <td>48.905406</td>\n",
       "    </tr>\n",
       "    <tr>\n",
       "      <th>1982</th>\n",
       "      <td>32270</td>\n",
       "      <td>33895</td>\n",
       "      <td>48.772009</td>\n",
       "    </tr>\n",
       "    <tr>\n",
       "      <th>1983</th>\n",
       "      <td>31419</td>\n",
       "      <td>33651</td>\n",
       "      <td>48.284924</td>\n",
       "    </tr>\n",
       "    <tr>\n",
       "      <th>1984</th>\n",
       "      <td>31956</td>\n",
       "      <td>33136</td>\n",
       "      <td>49.093591</td>\n",
       "    </tr>\n",
       "    <tr>\n",
       "      <th>1985</th>\n",
       "      <td>32550</td>\n",
       "      <td>34113</td>\n",
       "      <td>48.827686</td>\n",
       "    </tr>\n",
       "    <tr>\n",
       "      <th>1986</th>\n",
       "      <td>31935</td>\n",
       "      <td>33871</td>\n",
       "      <td>48.529010</td>\n",
       "    </tr>\n",
       "    <tr>\n",
       "      <th>1987</th>\n",
       "      <td>32269</td>\n",
       "      <td>33965</td>\n",
       "      <td>48.719691</td>\n",
       "    </tr>\n",
       "    <tr>\n",
       "      <th>1988</th>\n",
       "      <td>32149</td>\n",
       "      <td>34056</td>\n",
       "      <td>48.559776</td>\n",
       "    </tr>\n",
       "    <tr>\n",
       "      <th>1989</th>\n",
       "      <td>30975</td>\n",
       "      <td>32503</td>\n",
       "      <td>48.796433</td>\n",
       "    </tr>\n",
       "    <tr>\n",
       "      <th>1990</th>\n",
       "      <td>32071</td>\n",
       "      <td>33896</td>\n",
       "      <td>48.616733</td>\n",
       "    </tr>\n",
       "    <tr>\n",
       "      <th>1991</th>\n",
       "      <td>32604</td>\n",
       "      <td>34418</td>\n",
       "      <td>48.646713</td>\n",
       "    </tr>\n",
       "    <tr>\n",
       "      <th>1992</th>\n",
       "      <td>32177</td>\n",
       "      <td>33610</td>\n",
       "      <td>48.910879</td>\n",
       "    </tr>\n",
       "    <tr>\n",
       "      <th>1993</th>\n",
       "      <td>30961</td>\n",
       "      <td>32373</td>\n",
       "      <td>48.885275</td>\n",
       "    </tr>\n",
       "    <tr>\n",
       "      <th>1994</th>\n",
       "      <td>30256</td>\n",
       "      <td>31397</td>\n",
       "      <td>49.074660</td>\n",
       "    </tr>\n",
       "    <tr>\n",
       "      <th>1995</th>\n",
       "      <td>29399</td>\n",
       "      <td>30650</td>\n",
       "      <td>48.958351</td>\n",
       "    </tr>\n",
       "    <tr>\n",
       "      <th>1996</th>\n",
       "      <td>324769</td>\n",
       "      <td>349040</td>\n",
       "      <td>48.198970</td>\n",
       "    </tr>\n",
       "    <tr>\n",
       "      <th>1997</th>\n",
       "      <td>332698</td>\n",
       "      <td>356674</td>\n",
       "      <td>48.261026</td>\n",
       "    </tr>\n",
       "    <tr>\n",
       "      <th>1998</th>\n",
       "      <td>327497</td>\n",
       "      <td>351389</td>\n",
       "      <td>48.240353</td>\n",
       "    </tr>\n",
       "    <tr>\n",
       "      <th>1999</th>\n",
       "      <td>318391</td>\n",
       "      <td>342790</td>\n",
       "      <td>48.154893</td>\n",
       "    </tr>\n",
       "    <tr>\n",
       "      <th>2000</th>\n",
       "      <td>308417</td>\n",
       "      <td>330920</td>\n",
       "      <td>48.240130</td>\n",
       "    </tr>\n",
       "    <tr>\n",
       "      <th>2001</th>\n",
       "      <td>303212</td>\n",
       "      <td>325328</td>\n",
       "      <td>48.240685</td>\n",
       "    </tr>\n",
       "    <tr>\n",
       "      <th>2002</th>\n",
       "      <td>301787</td>\n",
       "      <td>324809</td>\n",
       "      <td>48.162931</td>\n",
       "    </tr>\n",
       "    <tr>\n",
       "      <th>2003</th>\n",
       "      <td>313344</td>\n",
       "      <td>337030</td>\n",
       "      <td>48.179048</td>\n",
       "    </tr>\n",
       "    <tr>\n",
       "      <th>2004</th>\n",
       "      <td>321645</td>\n",
       "      <td>347030</td>\n",
       "      <td>48.101843</td>\n",
       "    </tr>\n",
       "    <tr>\n",
       "      <th>2005</th>\n",
       "      <td>324244</td>\n",
       "      <td>348202</td>\n",
       "      <td>48.218593</td>\n",
       "    </tr>\n",
       "    <tr>\n",
       "      <th>2006</th>\n",
       "      <td>336341</td>\n",
       "      <td>360017</td>\n",
       "      <td>48.300012</td>\n",
       "    </tr>\n",
       "    <tr>\n",
       "      <th>2007</th>\n",
       "      <td>344643</td>\n",
       "      <td>372711</td>\n",
       "      <td>48.043644</td>\n",
       "    </tr>\n",
       "    <tr>\n",
       "      <th>2008</th>\n",
       "      <td>356142</td>\n",
       "      <td>382245</td>\n",
       "      <td>48.232431</td>\n",
       "    </tr>\n",
       "    <tr>\n",
       "      <th>2009</th>\n",
       "      <td>352882</td>\n",
       "      <td>380257</td>\n",
       "      <td>48.133028</td>\n",
       "    </tr>\n",
       "    <tr>\n",
       "      <th>2010</th>\n",
       "      <td>360834</td>\n",
       "      <td>388079</td>\n",
       "      <td>48.181030</td>\n",
       "    </tr>\n",
       "    <tr>\n",
       "      <th>2011</th>\n",
       "      <td>360548</td>\n",
       "      <td>387730</td>\n",
       "      <td>48.183696</td>\n",
       "    </tr>\n",
       "    <tr>\n",
       "      <th>2012</th>\n",
       "      <td>360850</td>\n",
       "      <td>390068</td>\n",
       "      <td>48.054515</td>\n",
       "    </tr>\n",
       "    <tr>\n",
       "      <th>2013</th>\n",
       "      <td>345764</td>\n",
       "      <td>373704</td>\n",
       "      <td>48.058288</td>\n",
       "    </tr>\n",
       "    <tr>\n",
       "      <th>2014</th>\n",
       "      <td>344302</td>\n",
       "      <td>372653</td>\n",
       "      <td>48.022819</td>\n",
       "    </tr>\n",
       "    <tr>\n",
       "      <th>2015</th>\n",
       "      <td>344583</td>\n",
       "      <td>372921</td>\n",
       "      <td>48.025237</td>\n",
       "    </tr>\n",
       "    <tr>\n",
       "      <th>2016</th>\n",
       "      <td>343217</td>\n",
       "      <td>371315</td>\n",
       "      <td>48.033818</td>\n",
       "    </tr>\n",
       "    <tr>\n",
       "      <th>2017</th>\n",
       "      <td>334057</td>\n",
       "      <td>360691</td>\n",
       "      <td>48.083190</td>\n",
       "    </tr>\n",
       "    <tr>\n",
       "      <th>2018</th>\n",
       "      <td>322649</td>\n",
       "      <td>349302</td>\n",
       "      <td>48.016745</td>\n",
       "    </tr>\n",
       "    <tr>\n",
       "      <th>2019</th>\n",
       "      <td>313134</td>\n",
       "      <td>339881</td>\n",
       "      <td>47.952038</td>\n",
       "    </tr>\n",
       "    <tr>\n",
       "      <th>2020</th>\n",
       "      <td>299439</td>\n",
       "      <td>322434</td>\n",
       "      <td>48.151150</td>\n",
       "    </tr>\n",
       "  </tbody>\n",
       "</table>\n",
       "</div>"
      ],
      "text/plain": [
       "sex        F       M  pct_female\n",
       "year                            \n",
       "1974   34228   35773   48.896444\n",
       "1975   32897   34965   48.476320\n",
       "1976   31364   33465   48.379583\n",
       "1977   30318   31954   48.686408\n",
       "1978   31221   33031   48.591484\n",
       "1979   33004   35323   48.303013\n",
       "1980   33474   35367   48.625093\n",
       "1981   33755   35266   48.905406\n",
       "1982   32270   33895   48.772009\n",
       "1983   31419   33651   48.284924\n",
       "1984   31956   33136   49.093591\n",
       "1985   32550   34113   48.827686\n",
       "1986   31935   33871   48.529010\n",
       "1987   32269   33965   48.719691\n",
       "1988   32149   34056   48.559776\n",
       "1989   30975   32503   48.796433\n",
       "1990   32071   33896   48.616733\n",
       "1991   32604   34418   48.646713\n",
       "1992   32177   33610   48.910879\n",
       "1993   30961   32373   48.885275\n",
       "1994   30256   31397   49.074660\n",
       "1995   29399   30650   48.958351\n",
       "1996  324769  349040   48.198970\n",
       "1997  332698  356674   48.261026\n",
       "1998  327497  351389   48.240353\n",
       "1999  318391  342790   48.154893\n",
       "2000  308417  330920   48.240130\n",
       "2001  303212  325328   48.240685\n",
       "2002  301787  324809   48.162931\n",
       "2003  313344  337030   48.179048\n",
       "2004  321645  347030   48.101843\n",
       "2005  324244  348202   48.218593\n",
       "2006  336341  360017   48.300012\n",
       "2007  344643  372711   48.043644\n",
       "2008  356142  382245   48.232431\n",
       "2009  352882  380257   48.133028\n",
       "2010  360834  388079   48.181030\n",
       "2011  360548  387730   48.183696\n",
       "2012  360850  390068   48.054515\n",
       "2013  345764  373704   48.058288\n",
       "2014  344302  372653   48.022819\n",
       "2015  344583  372921   48.025237\n",
       "2016  343217  371315   48.033818\n",
       "2017  334057  360691   48.083190\n",
       "2018  322649  349302   48.016745\n",
       "2019  313134  339881   47.952038\n",
       "2020  299439  322434   48.151150"
      ]
     },
     "execution_count": 56,
     "metadata": {},
     "output_type": "execute_result"
    }
   ],
   "source": [
    "babies_by_sex = babynames.pivot_table(\n",
    "    index=\"year\",\n",
    "    columns=\"sex\",\n",
    "    values=\"n\",\n",
    "    aggfunc=\"sum\"\n",
    ")\n",
    "\n",
    "babies_by_sex\n",
    "\n",
    "# This is now a tidy long dataframe, I could apply Pythons vectorised nature and easily calculate percent female babies\n",
    "babies_by_sex[\"pct_female\"] = (\n",
    "    babies_by_sex[\"F\"] / (babies_by_sex[\"F\"] + babies_by_sex[\"M\"]) * 100\n",
    ")\n",
    "\n",
    "babies_by_sex"
   ]
  },
  {
   "cell_type": "markdown",
   "id": "f8b02eba",
   "metadata": {},
   "source": [
    "#### Exercise 2: From Wide to Long\n",
    "\n",
    "WHO Tuberculosis Data\n",
    "\n",
    "This dataset comes from the World Health Organization (WHO) and records the number of **tuberculosis (TB) cases** reported by different countries, broken down by sex and age group.\n",
    "\n",
    "- **country, iso2, iso3**: identifiers for each country (name and ISO codes).\n",
    "- **year**: the year of observation.\n",
    "- **new_sp_m014, new_sp_m1524, …**: the number of new TB cases, where the code describes the **type of case**, the **sex**, and the **age group**.\n",
    "  - Example: `new_sp_m014` = new cases, sputum positive (`sp`), male (`m`), ages 0–14 (`014`).\n"
   ]
  },
  {
   "cell_type": "code",
   "execution_count": 60,
   "id": "42dc4f3d",
   "metadata": {},
   "outputs": [
    {
     "name": "stdout",
     "output_type": "stream",
     "text": [
      "<class 'pandas.core.frame.DataFrame'>\n",
      "RangeIndex: 7240 entries, 0 to 7239\n",
      "Data columns (total 60 columns):\n",
      " #   Column        Non-Null Count  Dtype  \n",
      "---  ------        --------------  -----  \n",
      " 0   country       7240 non-null   object \n",
      " 1   iso2          7206 non-null   object \n",
      " 2   iso3          7240 non-null   object \n",
      " 3   year          7240 non-null   int64  \n",
      " 4   new_sp_m014   3173 non-null   float64\n",
      " 5   new_sp_m1524  3209 non-null   float64\n",
      " 6   new_sp_m2534  3206 non-null   float64\n",
      " 7   new_sp_m3544  3219 non-null   float64\n",
      " 8   new_sp_m4554  3223 non-null   float64\n",
      " 9   new_sp_m5564  3218 non-null   float64\n",
      " 10  new_sp_m65    3209 non-null   float64\n",
      " 11  new_sp_f014   3174 non-null   float64\n",
      " 12  new_sp_f1524  3194 non-null   float64\n",
      " 13  new_sp_f2534  3200 non-null   float64\n",
      " 14  new_sp_f3544  3199 non-null   float64\n",
      " 15  new_sp_f4554  3204 non-null   float64\n",
      " 16  new_sp_f5564  3195 non-null   float64\n",
      " 17  new_sp_f65    3197 non-null   float64\n",
      " 18  new_sn_m014   1045 non-null   float64\n",
      " 19  new_sn_m1524  1030 non-null   float64\n",
      " 20  new_sn_m2534  1022 non-null   float64\n",
      " 21  new_sn_m3544  1025 non-null   float64\n",
      " 22  new_sn_m4554  1027 non-null   float64\n",
      " 23  new_sn_m5564  1021 non-null   float64\n",
      " 24  new_sn_m65    1020 non-null   float64\n",
      " 25  new_sn_f014   1040 non-null   float64\n",
      " 26  new_sn_f1524  1022 non-null   float64\n",
      " 27  new_sn_f2534  1016 non-null   float64\n",
      " 28  new_sn_f3544  1020 non-null   float64\n",
      " 29  new_sn_f4554  1018 non-null   float64\n",
      " 30  new_sn_f5564  1017 non-null   float64\n",
      " 31  new_sn_f65    1019 non-null   float64\n",
      " 32  new_ep_m014   1038 non-null   float64\n",
      " 33  new_ep_m1524  1026 non-null   float64\n",
      " 34  new_ep_m2534  1020 non-null   float64\n",
      " 35  new_ep_m3544  1024 non-null   float64\n",
      " 36  new_ep_m4554  1020 non-null   float64\n",
      " 37  new_ep_m5564  1015 non-null   float64\n",
      " 38  new_ep_m65    1018 non-null   float64\n",
      " 39  new_ep_f014   1032 non-null   float64\n",
      " 40  new_ep_f1524  1021 non-null   float64\n",
      " 41  new_ep_f2534  1021 non-null   float64\n",
      " 42  new_ep_f3544  1021 non-null   float64\n",
      " 43  new_ep_f4554  1017 non-null   float64\n",
      " 44  new_ep_f5564  1017 non-null   float64\n",
      " 45  new_ep_f65    1014 non-null   float64\n",
      " 46  newrel_m014   190 non-null    float64\n",
      " 47  newrel_m1524  182 non-null    float64\n",
      " 48  newrel_m2534  183 non-null    float64\n",
      " 49  newrel_m3544  184 non-null    float64\n",
      " 50  newrel_m4554  184 non-null    float64\n",
      " 51  newrel_m5564  185 non-null    float64\n",
      " 52  newrel_m65    182 non-null    float64\n",
      " 53  newrel_f014   190 non-null    float64\n",
      " 54  newrel_f1524  184 non-null    float64\n",
      " 55  newrel_f2534  182 non-null    float64\n",
      " 56  newrel_f3544  183 non-null    float64\n",
      " 57  newrel_f4554  183 non-null    float64\n",
      " 58  newrel_f5564  183 non-null    float64\n",
      " 59  newrel_f65    185 non-null    float64\n",
      "dtypes: float64(56), int64(1), object(3)\n",
      "memory usage: 3.3+ MB\n"
     ]
    }
   ],
   "source": [
    "# Import the dataset as gapminder using pd.read_csv()\n",
    "who = pd.read_csv('../Data/who.csv')\n",
    "who\n",
    "who.info()"
   ]
  },
  {
   "cell_type": "markdown",
   "id": "238abfd0",
   "metadata": {},
   "source": [
    "#### Exercise: Reshape WHO Tuberculosis Data\n",
    "\n",
    "The WHO dataset contains TB cases reported by country and year. Each combination of **type**, **sex**, and **age group** is stored as a separate column (`new_sp_m014`, `new_sp_f1524`, etc.), which makes the dataset **wide**.\n",
    "\n",
    "Your task:  \n",
    "1. Use `pd.melt()` to convert columns 5 through 60 into **two new columns**:  \n",
    "   - `tb_codes` → the original variable name (e.g., `new_sp_m014`).  \n",
    "   - `n` → the number of TB cases.  "
   ]
  },
  {
   "cell_type": "code",
   "execution_count": null,
   "id": "c6892984",
   "metadata": {},
   "outputs": [
    {
     "data": {
      "application/vnd.microsoft.datawrangler.viewer.v0+json": {
       "columns": [
        {
         "name": "index",
         "rawType": "int64",
         "type": "integer"
        },
        {
         "name": "country",
         "rawType": "object",
         "type": "string"
        },
        {
         "name": "year",
         "rawType": "int64",
         "type": "integer"
        },
        {
         "name": "tb_codes",
         "rawType": "object",
         "type": "string"
        },
        {
         "name": "n",
         "rawType": "float64",
         "type": "float"
        }
       ],
       "ref": "11451537-a4ce-474d-b398-0123db2bba83",
       "rows": [
        [
         "0",
         "Afghanistan",
         "1980",
         "new_sp_m014",
         null
        ],
        [
         "1",
         "Afghanistan",
         "1981",
         "new_sp_m014",
         null
        ],
        [
         "2",
         "Afghanistan",
         "1982",
         "new_sp_m014",
         null
        ],
        [
         "3",
         "Afghanistan",
         "1983",
         "new_sp_m014",
         null
        ],
        [
         "4",
         "Afghanistan",
         "1984",
         "new_sp_m014",
         null
        ],
        [
         "5",
         "Afghanistan",
         "1985",
         "new_sp_m014",
         null
        ],
        [
         "6",
         "Afghanistan",
         "1986",
         "new_sp_m014",
         null
        ],
        [
         "7",
         "Afghanistan",
         "1987",
         "new_sp_m014",
         null
        ],
        [
         "8",
         "Afghanistan",
         "1988",
         "new_sp_m014",
         null
        ],
        [
         "9",
         "Afghanistan",
         "1989",
         "new_sp_m014",
         null
        ],
        [
         "10",
         "Afghanistan",
         "1990",
         "new_sp_m014",
         null
        ],
        [
         "11",
         "Afghanistan",
         "1991",
         "new_sp_m014",
         null
        ],
        [
         "12",
         "Afghanistan",
         "1992",
         "new_sp_m014",
         null
        ],
        [
         "13",
         "Afghanistan",
         "1993",
         "new_sp_m014",
         null
        ],
        [
         "14",
         "Afghanistan",
         "1994",
         "new_sp_m014",
         null
        ],
        [
         "15",
         "Afghanistan",
         "1995",
         "new_sp_m014",
         null
        ],
        [
         "16",
         "Afghanistan",
         "1996",
         "new_sp_m014",
         null
        ],
        [
         "17",
         "Afghanistan",
         "1997",
         "new_sp_m014",
         "0.0"
        ],
        [
         "18",
         "Afghanistan",
         "1998",
         "new_sp_m014",
         "30.0"
        ],
        [
         "19",
         "Afghanistan",
         "1999",
         "new_sp_m014",
         "8.0"
        ],
        [
         "20",
         "Afghanistan",
         "2000",
         "new_sp_m014",
         "52.0"
        ],
        [
         "21",
         "Afghanistan",
         "2001",
         "new_sp_m014",
         "129.0"
        ],
        [
         "22",
         "Afghanistan",
         "2002",
         "new_sp_m014",
         "90.0"
        ],
        [
         "23",
         "Afghanistan",
         "2003",
         "new_sp_m014",
         "127.0"
        ],
        [
         "24",
         "Afghanistan",
         "2004",
         "new_sp_m014",
         "139.0"
        ],
        [
         "25",
         "Afghanistan",
         "2005",
         "new_sp_m014",
         "151.0"
        ],
        [
         "26",
         "Afghanistan",
         "2006",
         "new_sp_m014",
         "193.0"
        ],
        [
         "27",
         "Afghanistan",
         "2007",
         "new_sp_m014",
         "186.0"
        ],
        [
         "28",
         "Afghanistan",
         "2008",
         "new_sp_m014",
         "187.0"
        ],
        [
         "29",
         "Afghanistan",
         "2009",
         "new_sp_m014",
         "200.0"
        ],
        [
         "30",
         "Afghanistan",
         "2010",
         "new_sp_m014",
         "197.0"
        ],
        [
         "31",
         "Afghanistan",
         "2011",
         "new_sp_m014",
         "204.0"
        ],
        [
         "32",
         "Afghanistan",
         "2012",
         "new_sp_m014",
         "188.0"
        ],
        [
         "33",
         "Afghanistan",
         "2013",
         "new_sp_m014",
         null
        ],
        [
         "34",
         "Albania",
         "1980",
         "new_sp_m014",
         null
        ],
        [
         "35",
         "Albania",
         "1981",
         "new_sp_m014",
         null
        ],
        [
         "36",
         "Albania",
         "1982",
         "new_sp_m014",
         null
        ],
        [
         "37",
         "Albania",
         "1983",
         "new_sp_m014",
         null
        ],
        [
         "38",
         "Albania",
         "1984",
         "new_sp_m014",
         null
        ],
        [
         "39",
         "Albania",
         "1985",
         "new_sp_m014",
         null
        ],
        [
         "40",
         "Albania",
         "1986",
         "new_sp_m014",
         null
        ],
        [
         "41",
         "Albania",
         "1987",
         "new_sp_m014",
         null
        ],
        [
         "42",
         "Albania",
         "1988",
         "new_sp_m014",
         null
        ],
        [
         "43",
         "Albania",
         "1989",
         "new_sp_m014",
         null
        ],
        [
         "44",
         "Albania",
         "1990",
         "new_sp_m014",
         null
        ],
        [
         "45",
         "Albania",
         "1991",
         "new_sp_m014",
         null
        ],
        [
         "46",
         "Albania",
         "1992",
         "new_sp_m014",
         null
        ],
        [
         "47",
         "Albania",
         "1993",
         "new_sp_m014",
         null
        ],
        [
         "48",
         "Albania",
         "1994",
         "new_sp_m014",
         null
        ],
        [
         "49",
         "Albania",
         "1995",
         "new_sp_m014",
         "0.0"
        ]
       ],
       "shape": {
        "columns": 4,
        "rows": 405440
       }
      },
      "text/html": [
       "<div>\n",
       "<style scoped>\n",
       "    .dataframe tbody tr th:only-of-type {\n",
       "        vertical-align: middle;\n",
       "    }\n",
       "\n",
       "    .dataframe tbody tr th {\n",
       "        vertical-align: top;\n",
       "    }\n",
       "\n",
       "    .dataframe thead th {\n",
       "        text-align: right;\n",
       "    }\n",
       "</style>\n",
       "<table border=\"1\" class=\"dataframe\">\n",
       "  <thead>\n",
       "    <tr style=\"text-align: right;\">\n",
       "      <th></th>\n",
       "      <th>country</th>\n",
       "      <th>year</th>\n",
       "      <th>tb_codes</th>\n",
       "      <th>n</th>\n",
       "    </tr>\n",
       "  </thead>\n",
       "  <tbody>\n",
       "    <tr>\n",
       "      <th>0</th>\n",
       "      <td>Afghanistan</td>\n",
       "      <td>1980</td>\n",
       "      <td>new_sp_m014</td>\n",
       "      <td>NaN</td>\n",
       "    </tr>\n",
       "    <tr>\n",
       "      <th>1</th>\n",
       "      <td>Afghanistan</td>\n",
       "      <td>1981</td>\n",
       "      <td>new_sp_m014</td>\n",
       "      <td>NaN</td>\n",
       "    </tr>\n",
       "    <tr>\n",
       "      <th>2</th>\n",
       "      <td>Afghanistan</td>\n",
       "      <td>1982</td>\n",
       "      <td>new_sp_m014</td>\n",
       "      <td>NaN</td>\n",
       "    </tr>\n",
       "    <tr>\n",
       "      <th>3</th>\n",
       "      <td>Afghanistan</td>\n",
       "      <td>1983</td>\n",
       "      <td>new_sp_m014</td>\n",
       "      <td>NaN</td>\n",
       "    </tr>\n",
       "    <tr>\n",
       "      <th>4</th>\n",
       "      <td>Afghanistan</td>\n",
       "      <td>1984</td>\n",
       "      <td>new_sp_m014</td>\n",
       "      <td>NaN</td>\n",
       "    </tr>\n",
       "    <tr>\n",
       "      <th>...</th>\n",
       "      <td>...</td>\n",
       "      <td>...</td>\n",
       "      <td>...</td>\n",
       "      <td>...</td>\n",
       "    </tr>\n",
       "    <tr>\n",
       "      <th>405435</th>\n",
       "      <td>Zimbabwe</td>\n",
       "      <td>2009</td>\n",
       "      <td>newrel_f65</td>\n",
       "      <td>NaN</td>\n",
       "    </tr>\n",
       "    <tr>\n",
       "      <th>405436</th>\n",
       "      <td>Zimbabwe</td>\n",
       "      <td>2010</td>\n",
       "      <td>newrel_f65</td>\n",
       "      <td>NaN</td>\n",
       "    </tr>\n",
       "    <tr>\n",
       "      <th>405437</th>\n",
       "      <td>Zimbabwe</td>\n",
       "      <td>2011</td>\n",
       "      <td>newrel_f65</td>\n",
       "      <td>NaN</td>\n",
       "    </tr>\n",
       "    <tr>\n",
       "      <th>405438</th>\n",
       "      <td>Zimbabwe</td>\n",
       "      <td>2012</td>\n",
       "      <td>newrel_f65</td>\n",
       "      <td>NaN</td>\n",
       "    </tr>\n",
       "    <tr>\n",
       "      <th>405439</th>\n",
       "      <td>Zimbabwe</td>\n",
       "      <td>2013</td>\n",
       "      <td>newrel_f65</td>\n",
       "      <td>725.0</td>\n",
       "    </tr>\n",
       "  </tbody>\n",
       "</table>\n",
       "<p>405440 rows × 4 columns</p>\n",
       "</div>"
      ],
      "text/plain": [
       "            country  year     tb_codes      n\n",
       "0       Afghanistan  1980  new_sp_m014    NaN\n",
       "1       Afghanistan  1981  new_sp_m014    NaN\n",
       "2       Afghanistan  1982  new_sp_m014    NaN\n",
       "3       Afghanistan  1983  new_sp_m014    NaN\n",
       "4       Afghanistan  1984  new_sp_m014    NaN\n",
       "...             ...   ...          ...    ...\n",
       "405435     Zimbabwe  2009   newrel_f65    NaN\n",
       "405436     Zimbabwe  2010   newrel_f65    NaN\n",
       "405437     Zimbabwe  2011   newrel_f65    NaN\n",
       "405438     Zimbabwe  2012   newrel_f65    NaN\n",
       "405439     Zimbabwe  2013   newrel_f65  725.0\n",
       "\n",
       "[405440 rows x 4 columns]"
      ]
     },
     "execution_count": 66,
     "metadata": {},
     "output_type": "execute_result"
    }
   ],
   "source": [
    "# 2) Melt columns 5:60 into key-value pairs\n",
    "who_long = who.melt(\n",
    "    id_vars=[\"country\", \"year\"],       # keep these fixed\n",
    "    value_vars=who.columns[4:60],      # columns 5–60 (0-based index)\n",
    "    var_name=\"tb_codes\", \n",
    "    value_name=\"n\"\n",
    ")\n",
    "who_long"
   ]
  },
  {
   "cell_type": "markdown",
   "id": "236825bb",
   "metadata": {},
   "source": [
    "2. Clean the new tidy dataframe so it does not have missing `missing values` in the `n` column."
   ]
  },
  {
   "cell_type": "code",
   "execution_count": 70,
   "id": "c5cca722",
   "metadata": {},
   "outputs": [
    {
     "data": {
      "application/vnd.microsoft.datawrangler.viewer.v0+json": {
       "columns": [
        {
         "name": "index",
         "rawType": "int64",
         "type": "integer"
        },
        {
         "name": "country",
         "rawType": "object",
         "type": "string"
        },
        {
         "name": "year",
         "rawType": "int64",
         "type": "integer"
        },
        {
         "name": "tb_codes",
         "rawType": "object",
         "type": "string"
        },
        {
         "name": "n",
         "rawType": "float64",
         "type": "float"
        }
       ],
       "ref": "a3b23fa3-aaa6-4196-a926-c048ac48ba46",
       "rows": [
        [
         "17",
         "Afghanistan",
         "1997",
         "new_sp_m014",
         "0.0"
        ],
        [
         "18",
         "Afghanistan",
         "1998",
         "new_sp_m014",
         "30.0"
        ],
        [
         "19",
         "Afghanistan",
         "1999",
         "new_sp_m014",
         "8.0"
        ],
        [
         "20",
         "Afghanistan",
         "2000",
         "new_sp_m014",
         "52.0"
        ],
        [
         "21",
         "Afghanistan",
         "2001",
         "new_sp_m014",
         "129.0"
        ],
        [
         "22",
         "Afghanistan",
         "2002",
         "new_sp_m014",
         "90.0"
        ],
        [
         "23",
         "Afghanistan",
         "2003",
         "new_sp_m014",
         "127.0"
        ],
        [
         "24",
         "Afghanistan",
         "2004",
         "new_sp_m014",
         "139.0"
        ],
        [
         "25",
         "Afghanistan",
         "2005",
         "new_sp_m014",
         "151.0"
        ],
        [
         "26",
         "Afghanistan",
         "2006",
         "new_sp_m014",
         "193.0"
        ],
        [
         "27",
         "Afghanistan",
         "2007",
         "new_sp_m014",
         "186.0"
        ],
        [
         "28",
         "Afghanistan",
         "2008",
         "new_sp_m014",
         "187.0"
        ],
        [
         "29",
         "Afghanistan",
         "2009",
         "new_sp_m014",
         "200.0"
        ],
        [
         "30",
         "Afghanistan",
         "2010",
         "new_sp_m014",
         "197.0"
        ],
        [
         "31",
         "Afghanistan",
         "2011",
         "new_sp_m014",
         "204.0"
        ],
        [
         "32",
         "Afghanistan",
         "2012",
         "new_sp_m014",
         "188.0"
        ],
        [
         "49",
         "Albania",
         "1995",
         "new_sp_m014",
         "0.0"
        ],
        [
         "51",
         "Albania",
         "1997",
         "new_sp_m014",
         "0.0"
        ],
        [
         "52",
         "Albania",
         "1998",
         "new_sp_m014",
         "1.0"
        ],
        [
         "53",
         "Albania",
         "1999",
         "new_sp_m014",
         "0.0"
        ],
        [
         "54",
         "Albania",
         "2000",
         "new_sp_m014",
         "2.0"
        ],
        [
         "55",
         "Albania",
         "2001",
         "new_sp_m014",
         "3.0"
        ],
        [
         "56",
         "Albania",
         "2002",
         "new_sp_m014",
         "0.0"
        ],
        [
         "57",
         "Albania",
         "2003",
         "new_sp_m014",
         "0.0"
        ],
        [
         "58",
         "Albania",
         "2004",
         "new_sp_m014",
         "5.0"
        ],
        [
         "59",
         "Albania",
         "2005",
         "new_sp_m014",
         "0.0"
        ],
        [
         "60",
         "Albania",
         "2006",
         "new_sp_m014",
         "5.0"
        ],
        [
         "61",
         "Albania",
         "2007",
         "new_sp_m014",
         "0.0"
        ],
        [
         "62",
         "Albania",
         "2008",
         "new_sp_m014",
         "1.0"
        ],
        [
         "63",
         "Albania",
         "2009",
         "new_sp_m014",
         "0.0"
        ],
        [
         "64",
         "Albania",
         "2010",
         "new_sp_m014",
         "0.0"
        ],
        [
         "65",
         "Albania",
         "2011",
         "new_sp_m014",
         "0.0"
        ],
        [
         "66",
         "Albania",
         "2012",
         "new_sp_m014",
         "0.0"
        ],
        [
         "85",
         "Algeria",
         "1997",
         "new_sp_m014",
         "659.0"
        ],
        [
         "87",
         "Algeria",
         "1999",
         "new_sp_m014",
         "40.0"
        ],
        [
         "88",
         "Algeria",
         "2000",
         "new_sp_m014",
         "59.0"
        ],
        [
         "89",
         "Algeria",
         "2001",
         "new_sp_m014",
         "41.0"
        ],
        [
         "90",
         "Algeria",
         "2002",
         "new_sp_m014",
         "39.0"
        ],
        [
         "91",
         "Algeria",
         "2003",
         "new_sp_m014",
         "40.0"
        ],
        [
         "92",
         "Algeria",
         "2004",
         "new_sp_m014",
         "63.0"
        ],
        [
         "93",
         "Algeria",
         "2005",
         "new_sp_m014",
         "53.0"
        ],
        [
         "94",
         "Algeria",
         "2006",
         "new_sp_m014",
         "41.0"
        ],
        [
         "95",
         "Algeria",
         "2007",
         "new_sp_m014",
         "95.0"
        ],
        [
         "96",
         "Algeria",
         "2008",
         "new_sp_m014",
         "99.0"
        ],
        [
         "97",
         "Algeria",
         "2009",
         "new_sp_m014",
         "43.0"
        ],
        [
         "98",
         "Algeria",
         "2010",
         "new_sp_m014",
         "52.0"
        ],
        [
         "99",
         "Algeria",
         "2011",
         "new_sp_m014",
         "42.0"
        ],
        [
         "100",
         "Algeria",
         "2012",
         "new_sp_m014",
         "29.0"
        ],
        [
         "119",
         "American Samoa",
         "1997",
         "new_sp_m014",
         "1.0"
        ],
        [
         "130",
         "American Samoa",
         "2008",
         "new_sp_m014",
         "0.0"
        ]
       ],
       "shape": {
        "columns": 4,
        "rows": 76046
       }
      },
      "text/html": [
       "<div>\n",
       "<style scoped>\n",
       "    .dataframe tbody tr th:only-of-type {\n",
       "        vertical-align: middle;\n",
       "    }\n",
       "\n",
       "    .dataframe tbody tr th {\n",
       "        vertical-align: top;\n",
       "    }\n",
       "\n",
       "    .dataframe thead th {\n",
       "        text-align: right;\n",
       "    }\n",
       "</style>\n",
       "<table border=\"1\" class=\"dataframe\">\n",
       "  <thead>\n",
       "    <tr style=\"text-align: right;\">\n",
       "      <th></th>\n",
       "      <th>country</th>\n",
       "      <th>year</th>\n",
       "      <th>tb_codes</th>\n",
       "      <th>n</th>\n",
       "    </tr>\n",
       "  </thead>\n",
       "  <tbody>\n",
       "    <tr>\n",
       "      <th>17</th>\n",
       "      <td>Afghanistan</td>\n",
       "      <td>1997</td>\n",
       "      <td>new_sp_m014</td>\n",
       "      <td>0.0</td>\n",
       "    </tr>\n",
       "    <tr>\n",
       "      <th>18</th>\n",
       "      <td>Afghanistan</td>\n",
       "      <td>1998</td>\n",
       "      <td>new_sp_m014</td>\n",
       "      <td>30.0</td>\n",
       "    </tr>\n",
       "    <tr>\n",
       "      <th>19</th>\n",
       "      <td>Afghanistan</td>\n",
       "      <td>1999</td>\n",
       "      <td>new_sp_m014</td>\n",
       "      <td>8.0</td>\n",
       "    </tr>\n",
       "    <tr>\n",
       "      <th>20</th>\n",
       "      <td>Afghanistan</td>\n",
       "      <td>2000</td>\n",
       "      <td>new_sp_m014</td>\n",
       "      <td>52.0</td>\n",
       "    </tr>\n",
       "    <tr>\n",
       "      <th>21</th>\n",
       "      <td>Afghanistan</td>\n",
       "      <td>2001</td>\n",
       "      <td>new_sp_m014</td>\n",
       "      <td>129.0</td>\n",
       "    </tr>\n",
       "    <tr>\n",
       "      <th>...</th>\n",
       "      <td>...</td>\n",
       "      <td>...</td>\n",
       "      <td>...</td>\n",
       "      <td>...</td>\n",
       "    </tr>\n",
       "    <tr>\n",
       "      <th>405269</th>\n",
       "      <td>Viet Nam</td>\n",
       "      <td>2013</td>\n",
       "      <td>newrel_f65</td>\n",
       "      <td>3110.0</td>\n",
       "    </tr>\n",
       "    <tr>\n",
       "      <th>405303</th>\n",
       "      <td>Wallis and Futuna Islands</td>\n",
       "      <td>2013</td>\n",
       "      <td>newrel_f65</td>\n",
       "      <td>2.0</td>\n",
       "    </tr>\n",
       "    <tr>\n",
       "      <th>405371</th>\n",
       "      <td>Yemen</td>\n",
       "      <td>2013</td>\n",
       "      <td>newrel_f65</td>\n",
       "      <td>360.0</td>\n",
       "    </tr>\n",
       "    <tr>\n",
       "      <th>405405</th>\n",
       "      <td>Zambia</td>\n",
       "      <td>2013</td>\n",
       "      <td>newrel_f65</td>\n",
       "      <td>669.0</td>\n",
       "    </tr>\n",
       "    <tr>\n",
       "      <th>405439</th>\n",
       "      <td>Zimbabwe</td>\n",
       "      <td>2013</td>\n",
       "      <td>newrel_f65</td>\n",
       "      <td>725.0</td>\n",
       "    </tr>\n",
       "  </tbody>\n",
       "</table>\n",
       "<p>76046 rows × 4 columns</p>\n",
       "</div>"
      ],
      "text/plain": [
       "                          country  year     tb_codes       n\n",
       "17                    Afghanistan  1997  new_sp_m014     0.0\n",
       "18                    Afghanistan  1998  new_sp_m014    30.0\n",
       "19                    Afghanistan  1999  new_sp_m014     8.0\n",
       "20                    Afghanistan  2000  new_sp_m014    52.0\n",
       "21                    Afghanistan  2001  new_sp_m014   129.0\n",
       "...                           ...   ...          ...     ...\n",
       "405269                   Viet Nam  2013   newrel_f65  3110.0\n",
       "405303  Wallis and Futuna Islands  2013   newrel_f65     2.0\n",
       "405371                      Yemen  2013   newrel_f65   360.0\n",
       "405405                     Zambia  2013   newrel_f65   669.0\n",
       "405439                   Zimbabwe  2013   newrel_f65   725.0\n",
       "\n",
       "[76046 rows x 4 columns]"
      ]
     },
     "execution_count": 70,
     "metadata": {},
     "output_type": "execute_result"
    }
   ],
   "source": [
    "# Drop missing values\n",
    "who_long = who_long.dropna(subset=[\"n\"])\n",
    "\n",
    "# display the df\n",
    "who_long.head()\n",
    "\n",
    "who_long"
   ]
  },
  {
   "cell_type": "markdown",
   "id": "1873c79b",
   "metadata": {},
   "source": [
    "### All Done!"
   ]
  }
 ],
 "metadata": {
  "kernelspec": {
   "display_name": "Python 3",
   "language": "python",
   "name": "python3"
  },
  "language_info": {
   "codemirror_mode": {
    "name": "ipython",
    "version": 3
   },
   "file_extension": ".py",
   "mimetype": "text/x-python",
   "name": "python",
   "nbconvert_exporter": "python",
   "pygments_lexer": "ipython3",
   "version": "3.12.1"
  }
 },
 "nbformat": 4,
 "nbformat_minor": 5
}
